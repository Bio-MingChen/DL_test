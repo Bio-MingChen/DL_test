{
 "cells": [
  {
   "cell_type": "code",
   "execution_count": 18,
   "metadata": {},
   "outputs": [],
   "source": [
    "import torch\n",
    "import torch.nn as nn\n",
    "from torchvision import datasets,transforms\n",
    "from torchvision.transforms import v2\n",
    "from torch.utils.data import DataLoader,Dataset\n",
    "import torch.nn.functional as F"
   ]
  },
  {
   "cell_type": "code",
   "execution_count": 19,
   "metadata": {},
   "outputs": [],
   "source": [
    "device = torch.device( 'cuda' if torch.cuda.is_available() else 'cpu')"
   ]
  },
  {
   "cell_type": "code",
   "execution_count": 21,
   "metadata": {},
   "outputs": [],
   "source": [
    "from dataclasses import dataclass\n",
    "\n",
    "import torch\n",
    "\n",
    "\n",
    "@dataclass\n",
    "class VAEOutput:\n",
    "    \"\"\"\n",
    "    Dataclass for VAE output.\n",
    "    \n",
    "    Attributes:\n",
    "        z_dist (torch.distributions.Distribution): The distribution of the latent variable z.\n",
    "        z_sample (torch.Tensor): The sampled value of the latent variable z.\n",
    "        x_recon (torch.Tensor): The reconstructed output from the VAE.\n",
    "        loss (torch.Tensor): The overall loss of the VAE.\n",
    "        loss_recon (torch.Tensor): The reconstruction loss component of the VAE loss.\n",
    "        loss_kl (torch.Tensor): The KL divergence component of the VAE loss.\n",
    "    \"\"\"\n",
    "    z_dist: torch.distributions.Distribution\n",
    "    z_sample: torch.Tensor\n",
    "    x_recon: torch.Tensor\n",
    "    \n",
    "    loss: torch.Tensor\n",
    "    loss_recon: torch.Tensor\n",
    "    loss_kl: torch.Tensor\n",
    "\n",
    "class VAE(nn.Module):\n",
    "    \"\"\"\n",
    "    Variational Autoencoder (VAE) class\n",
    "\n",
    "    Args:\n",
    "        input_dim(int): Dimensionality of the input data.\n",
    "        hidden_dim(int): Dimensionality of the hidden layer.\n",
    "        latent_dim(int): Dimensionality of the latent space.\n",
    "    \"\"\"\n",
    "\n",
    "    def __init__(self, input_dim,hidden_dim,latent_dim):\n",
    "        super().__init__()\n",
    "\n",
    "        self.encoder = nn.Sequential(\n",
    "            nn.Linear(input_dim, hidden_dim),\n",
    "            nn.SiLU(), # Swish activation function\n",
    "            nn.Linear(hidden_dim,hidden_dim // 2),\n",
    "            nn.SiLU(),\n",
    "            nn.Linear(hidden_dim // 2, hidden_dim // 4),\n",
    "            nn.SiLU(),\n",
    "            nn.Linear(hidden_dim // 4, hidden_dim // 8),\n",
    "            nn.SiLU(),\n",
    "            nn.Linear(hidden_dim // 8, 2 * latent_dim), # 2 for mean and variance.\n",
    "        )\n",
    "        self.softplus = nn.Softplus()\n",
    "\n",
    "        self.decoder = nn.Sequential(\n",
    "            nn.Linear(latent_dim, hidden_dim // 8),\n",
    "            nn.SiLU(),\n",
    "            nn.Linear(hidden_dim // 8, hidden_dim // 4),\n",
    "            nn.SiLU(),\n",
    "            nn.Linear(hidden_dim // 4, hidden_dim // 2),\n",
    "            nn.SiLU(),\n",
    "            nn.Linear(hidden_dim // 2, hidden_dim),\n",
    "            nn.SiLU(),\n",
    "            nn.Linear(hidden_dim,input_dim),\n",
    "            nn.Sigmoid(),\n",
    "        )\n",
    "\n",
    "    def encode(self,x,eps:float=1e-8):\n",
    "        \"\"\"\n",
    "        Encodes the input data into the latent space\n",
    "        \n",
    "        Args:\n",
    "            x (torch.Tensor): input data.\n",
    "            eps (float): Small value to avoid numerical instability\n",
    "        \n",
    "        Returns:\n",
    "            torch.distributions.MultivariateNormal:Normal distribution of the encoded data.\n",
    "        \"\"\"\n",
    "        x = self.encoder(x)\n",
    "        mu, logvar = torch.chunk(x,2,dim=-1)\n",
    "        scale = self.softplus(logvar) + eps\n",
    "        scale_tril = torch.diag_embed(scale)\n",
    "\n",
    "        return torch.distributions.MultivariateNormal(mu, scale_tril=scale_tril)\n",
    "\n",
    "    def reparameterize(self,dist):\n",
    "        \"\"\"\n",
    "        Reparameterizes the encoded data to sample from the latent space\n",
    "\n",
    "        Args:\n",
    "            dist (torch.distributions.MultivariateNormal): Normal distributions of the encoded data.\n",
    "        \n",
    "        Returns:\n",
    "            torch.Tensor: Sampled data from the latent space.\n",
    "        \"\"\"\n",
    "        return dist.rsample()\n",
    "    \n",
    "    def decode(self, z):\n",
    "        \"\"\"\n",
    "        Decodes the data from the latent space to the original input space.\n",
    "\n",
    "        Args:\n",
    "            z(torch.Tensor): Data in the latent space.\n",
    "        \n",
    "        Returns:\n",
    "            torch.Tensor: Reconstructed data in the original input space.\n",
    "        \"\"\"\n",
    "\n",
    "        return self.decoder(z)\n",
    "    \n",
    "    def forward(self, x, compute_loss:bool=True):\n",
    "        \"\"\"\n",
    "        Performs a forwad pass of the VAE.\n",
    "\n",
    "        Args:\n",
    "            x(torch.Tensor):Input data.\n",
    "            compute_loss(bool): whether to compute the loss or not\n",
    "        \n",
    "        Returns:\n",
    "            VAEOutput: VAE output dataclass.\n",
    "        \"\"\"\n",
    "        dist = self.encode(x)\n",
    "        z = self.reparameterize(dist)\n",
    "        recon_x = self.decode(z)\n",
    "\n",
    "        if not compute_loss:\n",
    "            return VAEOutput(\n",
    "                z_dist=dist,\n",
    "                z_sample=z,\n",
    "                x_recon=recon_x,\n",
    "                loss=None,\n",
    "                loss_recon=None,\n",
    "                loss_kl=None,\n",
    "            )\n",
    "        loss_recon = F.binary_cross_entropy(recon_x,x+0.5, reduction='none').sum(-1).mean()\n",
    "        std_normal = torch.distributions.MultivariateNormal(\n",
    "            torch.zeros_like(z, device=z.device),\n",
    "            scale_tril = torch.eye(z.shape[-1], device=z.device).unsqueeze(0).expand(z.shape[0],-1,-1),\n",
    "        )\n",
    "        loss_kl = torch.distributions.kl.kl_divergence(dist, std_normal).mean()\n",
    "\n",
    "        loss = loss_recon + loss_kl\n",
    "\n",
    "        return VAEOutput(\n",
    "            z_dist=dist,\n",
    "            z_sample=z,\n",
    "            x_recon=recon_x,\n",
    "            loss=loss,\n",
    "            loss_recon=loss_recon,\n",
    "            loss_kl=loss_kl,\n",
    "        )\n",
    "  \n",
    " "
   ]
  },
  {
   "cell_type": "code",
   "execution_count": 6,
   "metadata": {},
   "outputs": [
    {
     "data": {
      "text/plain": [
       "(tensor([[0.3759],\n",
       "         [0.2769]]),\n",
       " tensor([[0.1712],\n",
       "         [0.9316]]))"
      ]
     },
     "execution_count": 6,
     "metadata": {},
     "output_type": "execute_result"
    }
   ],
   "source": [
    "torch.chunk(torch.rand(2,2),2,dim=-1)"
   ]
  },
  {
   "cell_type": "markdown",
   "metadata": {},
   "source": [
    "### 1. **为什么 `nn.Sequential` 的最后一层是 `2 * latent_dim`？**\n",
    "\n",
    "在 Variational Autoencoder (VAE) 中，**编码器**的目标是从输入数据中学习到潜在空间的分布。VAE 使用 **重参数化技巧** 来使得模型能够从一个分布中采样潜在变量 \\( z \\)，而这个分布由均值（mean）和方差（variance）决定。\n",
    "\n",
    "- **均值（mean）**：潜在空间中每个维度的中心位置。\n",
    "- **方差（variance）**：潜在空间中每个维度的散布程度。\n",
    "\n",
    "因此，编码器的最后一层输出的 **2 * latent_dim** 向量分为两部分：\n",
    "- **前 latent_dim** 个元素对应 **均值**（mean）。\n",
    "- **后 latent_dim** 个元素对应 **对数方差**（log variance），即方差的对数。使用对数变换可以确保方差为正，避免负方差的情况发生。\n",
    "\n",
    "也就是说，最后一层输出的 2 * latent_dim 向量中：\n",
    "- 第一部分：表示潜在空间的每个维度的均值。\n",
    "- 第二部分：表示潜在空间的每个维度的对数方差。\n",
    "\n",
    "在进行重参数化时，模型会利用这两个输出值（均值和方差）来构建潜在变量的分布，然后从这个分布中进行采样。通过这样的方式，VAE 可以在训练过程中进行梯度传播。\n",
    "\n",
    "### 2. **`Softplus` 是什么，它和 `Softmax` 有什么区别？**\n",
    "\n",
    "#### **Softplus 激活函数：**\n",
    "\n",
    "`Softplus` 是一种平滑的 ReLU 激活函数，其定义为：\n",
    "\n",
    "\\[\n",
    "\\text{Softplus}(x) = \\log(1 + e^x)\n",
    "\\]\n",
    "\n",
    "它的作用是将输入映射到一个平滑的非负值，使得对于负输入，输出逐渐趋近于零，而对于正输入，输出会逐渐线性增长。相比于 ReLU，Softplus 提供了更平滑的梯度，因此有时在训练过程中会带来更稳定的行为。\n",
    "\n",
    "在 VAE 中，`Softplus` 通常用于对 **对数方差**（log variance）进行平滑变换，确保方差为正。它的作用是：\n",
    "- **对数方差** 是在编码器的输出中生成的，而我们希望最终得到的是正的方差值。`Softplus` 可以保证输出的方差始终为正，因为它将对数值映射到正值空间。\n",
    "\n",
    "#### **Softmax 激活函数：**\n",
    "\n",
    "`Softmax` 是另一种常见的激活函数，它将一个向量中的每个元素映射到一个概率分布。其定义为：\n",
    "\n",
    "\\[\n",
    "\\text{Softmax}(x_i) = \\frac{e^{x_i}}{\\sum_{j} e^{x_j}}\n",
    "\\]\n",
    "\n",
    "`Softmax` 主要用于分类任务，特别是在神经网络的输出层，用来生成多类别的概率分布。其作用是：\n",
    "- 将输入的每个元素转换为一个0到1之间的值，且所有输出值的和为1，这样每个输出值可以解释为属于某个类别的概率。\n",
    "\n",
    "### **区别总结：**\n",
    "\n",
    "- **Softplus** 是一种平滑的 ReLU 激活函数，通常用于确保输出始终为正，尤其是在处理方差（log variance）等需要正值的情况中。它将输入变换为正数，避免了像 ReLU 那样的死区问题（负数部分为零）。\n",
    "- **Softmax** 主要用于生成概率分布，它将输入映射到 \\(0\\) 到 \\(1\\) 之间，并且所有输出的和为 1，适用于多分类问题的输出层。\n",
    "\n",
    "#### 主要区别：\n",
    "- **Softplus** 是用于平滑的激活函数，确保输出为正，通常在连续值或回归任务中使用。\n",
    "- **Softmax** 是用于归一化的激活函数，输出值表示类别的概率，常用于分类问题的输出层。"
   ]
  },
  {
   "cell_type": "markdown",
   "metadata": {},
   "source": [
    "是的，你的理解是对的！如果我们在 VAE 中选择不同的分布作为潜在空间（latent space）的分布，输出的形式和维度也会有所不同，具体的结构会依赖于选择的分布类型。\n",
    "\n",
    "### **关于 VAE 和潜在分布的说明**\n",
    "\n",
    "VAE 的核心思想是通过学习一个 **近似后验分布** \\( q(z|x) \\)，然后在这个分布中进行重参数化，以便能够从中进行采样并进行反向传播。\n",
    "\n",
    "- **标准正态分布（Gaussian）**：VAE 中常用的分布是 **正态分布**，即假设潜在变量 \\( z \\) 服从一个 **多维标准正态分布**（均值为 0，方差为 1），或者是具有均值和方差（log variance）可学习的正态分布。\n",
    "  - 这种情况下，编码器输出 **2 * latent_dim**：一半用于均值 \\( \\mu \\)，另一半用于对数方差 \\( \\log(\\sigma^2) \\)。\n",
    "\n",
    "### **如果我们换成其他分布，比如二项分布（Binomial）**\n",
    "\n",
    "如果你选择其他类型的分布来作为潜在空间的分布，比如 **二项分布（Binomial Distribution）** 或 **零膨胀二项分布（ZINB, Zero-Inflated Negative Binomial）**，那么编码器的最后一层输出的结构和维度会有所变化，因为你需要根据选择的分布来调整模型的参数。\n",
    "\n",
    "#### **例如，零膨胀二项分布（ZINB）**：\n",
    "\n",
    "ZINB 是一种常用的分布，特别是在处理稀疏数据（比如在自然语言处理和基因数据中常见的稀疏表示）时。它通常由两个部分组成：\n",
    "1. **零膨胀部分**：决定数据是否为零。\n",
    "2. **负二项分布部分**：如果数据不是零，则服从负二项分布。\n",
    "\n",
    "**ZINB 的参数**通常包括：\n",
    "- **\\( p \\)**：零膨胀的概率（表示数据为零的概率）。\n",
    "- **\\( r \\)** 和 **\\( \\theta \\)**：负二项分布的参数（通常是成功次数和成功的概率）。\n",
    "\n",
    "如果你用 ZINB 作为潜在分布，编码器的最后一层输出可能需要：\n",
    "- **1 个输出值**用于表示零膨胀的概率 \\( p \\)（可能是通过 Sigmoid 激活函数得到的）。\n",
    "- **2 个输出值**用于表示负二项分布的参数 \\( r \\) 和 \\( \\theta \\)。\n",
    "\n",
    "所以，你的网络最后一层的输出维度将变为 **3 * latent_dim**，即：\n",
    "- 第一部分：零膨胀概率 \\( p \\)。\n",
    "- 第二部分：负二项分布的参数 \\( r \\) 和 \\( \\theta \\)。\n",
    "\n",
    "这就与标准的正态分布不同了，因为对于正态分布，我们只需要输出均值和对数方差，而对于 ZINB，我们需要为零膨胀和负二项分布的参数提供不同的输出。\n",
    "\n",
    "### **总结**\n",
    "\n",
    "- **正态分布**：通常，VAE 的潜在空间使用正态分布，输出 **2 * latent_dim**：均值和对数方差。\n",
    "- **其他分布（如 ZINB）**：如果使用其他分布，最后一层的输出维度会增加，具体取决于所选分布的参数数量。例如，ZINB 可能需要 **3 * latent_dim** 的输出维度，分别对应零膨胀概率和负二项分布的参数。\n",
    "\n",
    "因此，潜在层的输出维度和结构会根据所选的分布而变化。你需要根据分布的性质和参数要求调整编码器最后一层的输出维度，以便适应新的分布。"
   ]
  },
  {
   "cell_type": "code",
   "execution_count": 22,
   "metadata": {},
   "outputs": [],
   "source": [
    "batch_size = 128\n",
    "transform = v2.Compose([\n",
    "    v2.ToImage(),\n",
    "    v2.ToDtype(torch.float32,scale=True),\n",
    "    v2.Lambda(lambda x: x.view(-1) - 0.5),\n",
    "])\n",
    "\n",
    "train_data = datasets.MNIST(\n",
    "    root=\"./data\",\n",
    "    train=True,\n",
    "    download=True,\n",
    "    transform=transform\n",
    ")\n",
    "\n",
    "test_data = datasets.MNIST(\n",
    "    root=\"./data\",\n",
    "    train=False,\n",
    "    download=True,\n",
    "    transform=transform\n",
    ")\n",
    "\n",
    "train_loader = DataLoader(train_data,batch_size=batch_size,shuffle=True)\n",
    "test_loader = DataLoader(test_data,batch_size=batch_size,shuffle=True)"
   ]
  },
  {
   "cell_type": "markdown",
   "metadata": {},
   "source": [
    "在你提供的代码中，`v2` 代表的是 **`torchvision.transforms`** 的第二版（`v2`），是 `torchvision` 库的一个较新的版本，通常包括一些新的功能和接口改进。`transforms` 是早期版本的命名空间，它包含了用于图像预处理的各种转换操作（如归一化、随机裁剪、旋转等）。从 `torchvision` 版本 0.12 起，官方开始引入 `v2` 版本，并对很多转换操作进行了重构。\n",
    "\n",
    "### **`v2` 和 `transforms` 的区别**\n",
    "\n",
    "- **`transforms`**：在早期的 `torchvision` 版本中使用的命名空间，包含了一些经典的图像处理变换，如 `ToTensor`、`Normalize` 等。\n",
    "- **`v2`**：在较新的 `torchvision` 版本中使用的命名空间，包含了更新的 API。`v2` 引入了更加灵活和一致的转换方法，允许通过链式操作（`Compose`）更加方便地定义数据预处理流程，提升了性能和可扩展性。\n",
    "\n",
    "简而言之，`v2` 是 `torchvision.transforms` 的更新版本，它引入了更多的改进和功能，可能与旧版 `transforms` 有一些细微差别。\n",
    "\n",
    "### **`v2.Compose` 的标准化流程**\n",
    "\n",
    "在代码中，你使用了 `v2.Compose` 来组合多个图像转换操作。下面是每个步骤的详细解释：\n",
    "\n",
    "```python\n",
    "transform = v2.Compose([\n",
    "    v2.ToImage(),  # 将输入图像转换为标准图像格式\n",
    "    v2.ToDtype(torch.float32, scale=True),  # 转换数据类型为 float32，并归一化到 [0, 1] 范围\n",
    "    v2.Lambda(lambda x: x.view(-1) - 0.5),  # 将图像展平并进行零中心化处理\n",
    "])\n",
    "```\n",
    "\n",
    "1. **`v2.ToImage()`**：\n",
    "   - 将输入转换为图像格式。这个转换操作确保了输入数据符合图像格式，适用于从不同格式的数据（如 numpy 数组、PIL 图像等）转换为统一的图像格式。\n",
    "\n",
    "2. **`v2.ToDtype(torch.float32, scale=True)`**：\n",
    "   - 将图像转换为 `float32` 类型，并且通过 `scale=True` 自动将图像的像素值归一化到 `[0, 1]` 范围。\n",
    "   - 在 MNIST 数据集中，像素值范围原本是 `[0, 255]`，通过这一步转换，图像的像素值将变为 `[0.0, 1.0]`。\n",
    "   \n",
    "3. **`v2.Lambda(lambda x: x.view(-1) - 0.5)`**：\n",
    "   - `x.view(-1)` 将图像展平（将二维图像转化为一维向量）。\n",
    "   - `- 0.5` 对每个像素值进行零中心化处理，即将像素值从 `[0, 1]` 范围调整到 `[-0.5, 0.5]`。这是为了帮助神经网络更好地学习，因为在 `[-0.5, 0.5]` 范围内，数据的分布中心是 0，这通常能加速训练并提高收敛速度。\n",
    "\n",
    "### **标准化流程总结**\n",
    "\n",
    "- **归一化（Normalization）**：首先，`v2.ToDtype(torch.float32, scale=True)` 将数据从 `[0, 255]` 范围归一化到 `[0, 1]` 范围。\n",
    "- **零中心化（Zero-Centering）**：接着，`v2.Lambda(lambda x: x.view(-1) - 0.5)` 将归一化后的数据从 `[0, 1]` 范围平移到 `[-0.5, 0.5]`，即进行零中心化。\n",
    "- **展平（Flatten）**：`x.view(-1)` 使得每张图像的像素值被展平成一个一维的向量，这对于后续的全连接层（fully connected layer）等操作非常有用。\n",
    "\n",
    "这种标准化流程对训练深度学习模型特别重要，零中心化可以让模型的训练过程更稳定、收敛更快。"
   ]
  },
  {
   "cell_type": "code",
   "execution_count": 23,
   "metadata": {},
   "outputs": [],
   "source": [
    "from datetime import datetime\n",
    "from torch.utils.tensorboard import SummaryWriter\n",
    "\n",
    "learning_rate = 1e-3\n",
    "weight_decay = 1e-2\n",
    "num_epochs = 50\n",
    "latent_dim = 2\n",
    "hidden_dim = 512\n",
    "\n",
    "model = VAE(input_dim=784,hidden_dim=hidden_dim,latent_dim=latent_dim).to(device)\n",
    "optimizer = torch.optim.AdamW(model.parameters(),lr=learning_rate,weight_decay=weight_decay)\n",
    "writer = SummaryWriter(f'runs/mnist/vae_{datetime.now().strftime(\"%Y%m%d-%H%M%S\")}')"
   ]
  },
  {
   "cell_type": "code",
   "execution_count": 13,
   "metadata": {},
   "outputs": [],
   "source": [
    "from tqdm import tqdm\n",
    "def train(model, dataloader, optimizer, prev_updates, writer=None):\n",
    "    \"\"\"\n",
    "    Train the model on the given data.\n",
    "\n",
    "    Args:\n",
    "        model(nn.Module): The model to train\n",
    "        dataloader(torch.utils.data.DataLoader): The data loader\n",
    "        loss_fn:The loss function\n",
    "        optimizer: the optimizer\n",
    "    \"\"\"\n",
    "    model.train() # Set the model to training mode\n",
    "    for batch_idx, (data,target) in enumerate(tqdm(dataloader)):\n",
    "        n_upd = prev_updates + batch_idx\n",
    "        data = data.to(device)\n",
    "        optimizer.zero_grad() # zero the gradients\n",
    "        output = model(data)\n",
    "        loss = output.loss\n",
    "        loss.backward()\n",
    "        if n_upd % 100 == 0:\n",
    "            total_norm = 0.0\n",
    "            for p in model.parameters():\n",
    "                if p.grad is not None:\n",
    "                    param_norm = p.grad.data.norm(2)\n",
    "                    total_norm += param_norm.item() ** 2\n",
    "            total_norm = total_norm ** (1. / 2)\n",
    "\n",
    "            print(f'Step {n_upd:,} (N samples: {n_upd*batch_size:,}), Loss: {loss.item():.4f} (Recon: {output.loss_recon.item():.4f}, KL: {output.loss_kl.item():.4f}) Grad: {total_norm:.4f}')        \n",
    "\n",
    "            if writer is not None:\n",
    "                global_step = n_upd\n",
    "                writer.add_scalar('Loss/Train', loss.item(), global_step)\n",
    "                writer.add_scalar('Loss/Train/BCE', output.loss_recon.item(), global_step)\n",
    "                writer.add_scalar('Loss/Train/KLD', output.loss_kl.item(), global_step)\n",
    "                writer.add_scalar('GradNorm/Train', total_norm, global_step)\n",
    "        \n",
    "        # gradient clipping\n",
    "        torch.nn.utils.clip_grad_norm_(model.parameters(), 1.0)\n",
    "\n",
    "        optimizer.step()\n",
    "\n",
    "    return prev_updates + len(dataloader)\n"
   ]
  },
  {
   "cell_type": "code",
   "execution_count": 26,
   "metadata": {},
   "outputs": [],
   "source": [
    "def test(model,dataloader,cur_step,writer=None):\n",
    "    \"\"\"\n",
    "    Tests the model on the given data\n",
    "\n",
    "    Args:\n",
    "        model(nn.Module): The model to test\n",
    "        dataloader: The data loader\n",
    "        cur_step(int):The current step\n",
    "        writer:Teh TensorBoard writer\n",
    "    \"\"\"\n",
    "    model.eval() # Set the model to evalution mode\n",
    "    test_loss = 0\n",
    "    test_recon_loss = 0\n",
    "    test_kl_loss = 0\n",
    "\n",
    "    with torch.no_grad():\n",
    "        for data, target in tqdm(dataloader, desc=\"Testing\"):\n",
    "            data = data.to(device)\n",
    "            data = data.view(data.size(0), -1) # Flatten the data\n",
    "\n",
    "            output = model(data, compute_loss=True) # Forwad pass\n",
    "\n",
    "            test_loss += output.loss.item()\n",
    "            test_recon_loss += output.loss_recon.item()\n",
    "            test_kl_loss += output.loss_kl.item()\n",
    "\n",
    "    test_loss /= len(dataloader)\n",
    "    test_recon_loss /= len(dataloader)\n",
    "    test_kl_loss /= len(dataloader)\n",
    "    print(f'====> Test set loss: {test_loss:.4f} (BCE: {test_recon_loss:.4f}, KLD: {test_kl_loss:.4f})')\n",
    "\n",
    "    if writer is not None:\n",
    "        writer.add_scalar('Loss/Test', test_loss, global_step=cur_step)\n",
    "        writer.add_scalar('Loss/Test/BCE', output.loss_recon.item(), global_step=cur_step)\n",
    "        writer.add_scalar('Loss/Test/KLD', output.loss_kl.item(), global_step=cur_step)\n",
    "        \n",
    "        # Log reconstructions\n",
    "        writer.add_images('Test/Reconstructions', output.x_recon.view(-1, 1, 28, 28), global_step=cur_step)\n",
    "        writer.add_images('Test/Originals', data.view(-1, 1, 28, 28), global_step=cur_step)\n",
    "        \n",
    "        # Log random samples from the latent space\n",
    "        z = torch.randn(16, latent_dim).to(device)\n",
    "        samples = model.decode(z)\n",
    "        writer.add_images('Test/Samples', samples.view(-1, 1, 28, 28), global_step=cur_step)"
   ]
  },
  {
   "cell_type": "code",
   "execution_count": 27,
   "metadata": {},
   "outputs": [
    {
     "name": "stdout",
     "output_type": "stream",
     "text": [
      "Epoch 1/50\n"
     ]
    },
    {
     "name": "stderr",
     "output_type": "stream",
     "text": [
      "  0%|          | 2/469 [00:00<00:25, 18.08it/s]"
     ]
    },
    {
     "name": "stdout",
     "output_type": "stream",
     "text": [
      "Step 0 (N samples: 0), Loss: 181.7128 (Recon: 178.6603, KL: 3.0525) Grad: 34.4144\n"
     ]
    },
    {
     "name": "stderr",
     "output_type": "stream",
     "text": [
      " 23%|██▎       | 110/469 [00:01<00:05, 71.02it/s]"
     ]
    },
    {
     "name": "stdout",
     "output_type": "stream",
     "text": [
      "Step 100 (N samples: 12,800), Loss: 168.4369 (Recon: 165.2820, KL: 3.1549) Grad: 56.9685\n"
     ]
    },
    {
     "name": "stderr",
     "output_type": "stream",
     "text": [
      " 45%|████▍     | 211/469 [00:03<00:03, 70.08it/s]"
     ]
    },
    {
     "name": "stdout",
     "output_type": "stream",
     "text": [
      "Step 200 (N samples: 25,600), Loss: 185.2482 (Recon: 181.5314, KL: 3.7168) Grad: 45.6059\n"
     ]
    },
    {
     "name": "stderr",
     "output_type": "stream",
     "text": [
      " 67%|██████▋   | 312/469 [00:04<00:02, 72.25it/s]"
     ]
    },
    {
     "name": "stdout",
     "output_type": "stream",
     "text": [
      "Step 300 (N samples: 38,400), Loss: 176.1905 (Recon: 171.9602, KL: 4.2303) Grad: 92.9642\n"
     ]
    },
    {
     "name": "stderr",
     "output_type": "stream",
     "text": [
      " 87%|████████▋ | 408/469 [00:05<00:00, 68.84it/s]"
     ]
    },
    {
     "name": "stdout",
     "output_type": "stream",
     "text": [
      "Step 400 (N samples: 51,200), Loss: 165.4664 (Recon: 161.1755, KL: 4.2909) Grad: 40.3385\n"
     ]
    },
    {
     "name": "stderr",
     "output_type": "stream",
     "text": [
      "100%|██████████| 469/469 [00:06<00:00, 67.23it/s]\n",
      "Testing: 100%|██████████| 79/79 [00:01<00:00, 75.12it/s]\n"
     ]
    },
    {
     "name": "stdout",
     "output_type": "stream",
     "text": [
      "====> Test set loss: 175.7222 (BCE: 171.4721, KLD: 4.2501)\n",
      "Epoch 2/50\n"
     ]
    },
    {
     "name": "stderr",
     "output_type": "stream",
     "text": [
      "  9%|▉         | 43/469 [00:00<00:06, 69.08it/s]"
     ]
    },
    {
     "name": "stdout",
     "output_type": "stream",
     "text": [
      "Step 500 (N samples: 64,000), Loss: 171.8786 (Recon: 167.4848, KL: 4.3937) Grad: 64.1851\n"
     ]
    },
    {
     "name": "stderr",
     "output_type": "stream",
     "text": [
      " 29%|██▉       | 138/469 [00:02<00:05, 64.28it/s]"
     ]
    },
    {
     "name": "stdout",
     "output_type": "stream",
     "text": [
      "Step 600 (N samples: 76,800), Loss: 167.5515 (Recon: 162.5081, KL: 5.0434) Grad: 67.3669\n"
     ]
    },
    {
     "name": "stderr",
     "output_type": "stream",
     "text": [
      " 51%|█████     | 239/469 [00:04<00:04, 48.64it/s]"
     ]
    },
    {
     "name": "stdout",
     "output_type": "stream",
     "text": [
      "Step 700 (N samples: 89,600), Loss: 163.1238 (Recon: 157.8061, KL: 5.3177) Grad: 85.4490\n"
     ]
    },
    {
     "name": "stderr",
     "output_type": "stream",
     "text": [
      " 72%|███████▏  | 340/469 [00:05<00:01, 67.46it/s]"
     ]
    },
    {
     "name": "stdout",
     "output_type": "stream",
     "text": [
      "Step 800 (N samples: 102,400), Loss: 163.7746 (Recon: 158.4001, KL: 5.3745) Grad: 123.4396\n"
     ]
    },
    {
     "name": "stderr",
     "output_type": "stream",
     "text": [
      " 93%|█████████▎| 437/469 [00:07<00:00, 47.21it/s]"
     ]
    },
    {
     "name": "stdout",
     "output_type": "stream",
     "text": [
      "Step 900 (N samples: 115,200), Loss: 161.6622 (Recon: 156.1501, KL: 5.5121) Grad: 31.5859\n"
     ]
    },
    {
     "name": "stderr",
     "output_type": "stream",
     "text": [
      "100%|██████████| 469/469 [00:07<00:00, 58.91it/s]\n",
      "Testing: 100%|██████████| 79/79 [00:01<00:00, 75.65it/s]\n"
     ]
    },
    {
     "name": "stdout",
     "output_type": "stream",
     "text": [
      "====> Test set loss: 157.6765 (BCE: 152.0153, KLD: 5.6613)\n",
      "Epoch 3/50\n"
     ]
    },
    {
     "name": "stderr",
     "output_type": "stream",
     "text": [
      " 16%|█▌        | 73/469 [00:01<00:06, 62.86it/s]"
     ]
    },
    {
     "name": "stdout",
     "output_type": "stream",
     "text": [
      "Step 1,000 (N samples: 128,000), Loss: 151.1437 (Recon: 145.5638, KL: 5.5800) Grad: 85.4606\n"
     ]
    },
    {
     "name": "stderr",
     "output_type": "stream",
     "text": [
      " 37%|███▋      | 173/469 [00:02<00:04, 65.99it/s]"
     ]
    },
    {
     "name": "stdout",
     "output_type": "stream",
     "text": [
      "Step 1,100 (N samples: 140,800), Loss: 151.7480 (Recon: 146.1973, KL: 5.5508) Grad: 96.0152\n"
     ]
    },
    {
     "name": "stderr",
     "output_type": "stream",
     "text": [
      " 58%|█████▊    | 271/469 [00:04<00:03, 59.36it/s]"
     ]
    },
    {
     "name": "stdout",
     "output_type": "stream",
     "text": [
      "Step 1,200 (N samples: 153,600), Loss: 154.4771 (Recon: 148.9212, KL: 5.5559) Grad: 95.5132\n"
     ]
    },
    {
     "name": "stderr",
     "output_type": "stream",
     "text": [
      " 79%|███████▉  | 371/469 [00:05<00:01, 73.15it/s]"
     ]
    },
    {
     "name": "stdout",
     "output_type": "stream",
     "text": [
      "Step 1,300 (N samples: 166,400), Loss: 155.0301 (Recon: 149.4925, KL: 5.5376) Grad: 76.7181\n"
     ]
    },
    {
     "name": "stderr",
     "output_type": "stream",
     "text": [
      "100%|██████████| 469/469 [00:07<00:00, 65.08it/s]\n"
     ]
    },
    {
     "name": "stdout",
     "output_type": "stream",
     "text": [
      "Step 1,400 (N samples: 179,200), Loss: 150.8142 (Recon: 145.1823, KL: 5.6319) Grad: 116.7876\n"
     ]
    },
    {
     "name": "stderr",
     "output_type": "stream",
     "text": [
      "Testing: 100%|██████████| 79/79 [00:01<00:00, 78.24it/s]\n"
     ]
    },
    {
     "name": "stdout",
     "output_type": "stream",
     "text": [
      "====> Test set loss: 153.3110 (BCE: 147.5680, KLD: 5.7430)\n",
      "Epoch 4/50\n"
     ]
    },
    {
     "name": "stderr",
     "output_type": "stream",
     "text": [
      " 23%|██▎       | 108/469 [00:01<00:05, 69.87it/s]"
     ]
    },
    {
     "name": "stdout",
     "output_type": "stream",
     "text": [
      "Step 1,500 (N samples: 192,000), Loss: 157.8203 (Recon: 152.4320, KL: 5.3883) Grad: 97.0456\n"
     ]
    },
    {
     "name": "stderr",
     "output_type": "stream",
     "text": [
      " 43%|████▎     | 203/469 [00:02<00:03, 71.13it/s]"
     ]
    },
    {
     "name": "stdout",
     "output_type": "stream",
     "text": [
      "Step 1,600 (N samples: 204,800), Loss: 151.0114 (Recon: 145.1276, KL: 5.8837) Grad: 205.6585\n"
     ]
    },
    {
     "name": "stderr",
     "output_type": "stream",
     "text": [
      " 65%|██████▍   | 304/469 [00:04<00:02, 68.72it/s]"
     ]
    },
    {
     "name": "stdout",
     "output_type": "stream",
     "text": [
      "Step 1,700 (N samples: 217,600), Loss: 146.4611 (Recon: 140.7398, KL: 5.7212) Grad: 153.7238\n"
     ]
    },
    {
     "name": "stderr",
     "output_type": "stream",
     "text": [
      " 86%|████████▌ | 402/469 [00:05<00:01, 66.80it/s]"
     ]
    },
    {
     "name": "stdout",
     "output_type": "stream",
     "text": [
      "Step 1,800 (N samples: 230,400), Loss: 153.6798 (Recon: 147.9549, KL: 5.7249) Grad: 241.6351\n"
     ]
    },
    {
     "name": "stderr",
     "output_type": "stream",
     "text": [
      "100%|██████████| 469/469 [00:06<00:00, 69.17it/s]\n",
      "Testing: 100%|██████████| 79/79 [00:01<00:00, 76.84it/s]\n"
     ]
    },
    {
     "name": "stdout",
     "output_type": "stream",
     "text": [
      "====> Test set loss: 150.7494 (BCE: 144.9042, KLD: 5.8452)\n",
      "Epoch 5/50\n"
     ]
    },
    {
     "name": "stderr",
     "output_type": "stream",
     "text": [
      "  8%|▊         | 36/469 [00:00<00:07, 55.91it/s]"
     ]
    },
    {
     "name": "stdout",
     "output_type": "stream",
     "text": [
      "Step 1,900 (N samples: 243,200), Loss: 144.3716 (Recon: 138.2769, KL: 6.0947) Grad: 100.2534\n"
     ]
    },
    {
     "name": "stderr",
     "output_type": "stream",
     "text": [
      " 29%|██▊       | 134/469 [00:02<00:05, 63.77it/s]"
     ]
    },
    {
     "name": "stdout",
     "output_type": "stream",
     "text": [
      "Step 2,000 (N samples: 256,000), Loss: 147.3448 (Recon: 141.5843, KL: 5.7606) Grad: 89.3598\n"
     ]
    },
    {
     "name": "stderr",
     "output_type": "stream",
     "text": [
      " 50%|█████     | 236/469 [00:03<00:03, 63.01it/s]"
     ]
    },
    {
     "name": "stdout",
     "output_type": "stream",
     "text": [
      "Step 2,100 (N samples: 268,800), Loss: 154.5263 (Recon: 148.8653, KL: 5.6610) Grad: 125.9163\n"
     ]
    },
    {
     "name": "stderr",
     "output_type": "stream",
     "text": [
      " 71%|███████   | 332/469 [00:05<00:02, 61.74it/s]"
     ]
    },
    {
     "name": "stdout",
     "output_type": "stream",
     "text": [
      "Step 2,200 (N samples: 281,600), Loss: 149.1089 (Recon: 143.0913, KL: 6.0176) Grad: 79.1905\n"
     ]
    },
    {
     "name": "stderr",
     "output_type": "stream",
     "text": [
      " 92%|█████████▏| 431/469 [00:07<00:00, 47.27it/s]"
     ]
    },
    {
     "name": "stdout",
     "output_type": "stream",
     "text": [
      "Step 2,300 (N samples: 294,400), Loss: 146.1278 (Recon: 140.2635, KL: 5.8643) Grad: 109.0972\n"
     ]
    },
    {
     "name": "stderr",
     "output_type": "stream",
     "text": [
      "100%|██████████| 469/469 [00:08<00:00, 56.14it/s]\n",
      "Testing: 100%|██████████| 79/79 [00:01<00:00, 50.59it/s]\n"
     ]
    },
    {
     "name": "stdout",
     "output_type": "stream",
     "text": [
      "====> Test set loss: 155.1118 (BCE: 149.1350, KLD: 5.9768)\n",
      "Epoch 6/50\n"
     ]
    },
    {
     "name": "stderr",
     "output_type": "stream",
     "text": [
      " 14%|█▍        | 66/469 [00:01<00:06, 59.88it/s]"
     ]
    },
    {
     "name": "stdout",
     "output_type": "stream",
     "text": [
      "Step 2,400 (N samples: 307,200), Loss: 152.0184 (Recon: 146.0840, KL: 5.9344) Grad: 121.5658\n"
     ]
    },
    {
     "name": "stderr",
     "output_type": "stream",
     "text": [
      " 35%|███▌      | 165/469 [00:02<00:04, 62.12it/s]"
     ]
    },
    {
     "name": "stdout",
     "output_type": "stream",
     "text": [
      "Step 2,500 (N samples: 320,000), Loss: 153.9035 (Recon: 148.0120, KL: 5.8915) Grad: 89.1267\n"
     ]
    },
    {
     "name": "stderr",
     "output_type": "stream",
     "text": [
      " 56%|█████▌    | 262/469 [00:04<00:02, 69.90it/s]"
     ]
    },
    {
     "name": "stdout",
     "output_type": "stream",
     "text": [
      "Step 2,600 (N samples: 332,800), Loss: 145.1514 (Recon: 139.0097, KL: 6.1417) Grad: 92.1684\n"
     ]
    },
    {
     "name": "stderr",
     "output_type": "stream",
     "text": [
      " 77%|███████▋  | 360/469 [00:06<00:03, 27.46it/s]"
     ]
    },
    {
     "name": "stdout",
     "output_type": "stream",
     "text": [
      "Step 2,700 (N samples: 345,600), Loss: 158.7341 (Recon: 152.8521, KL: 5.8820) Grad: 162.8622\n"
     ]
    },
    {
     "name": "stderr",
     "output_type": "stream",
     "text": [
      " 98%|█████████▊| 459/469 [00:10<00:00, 27.15it/s]"
     ]
    },
    {
     "name": "stdout",
     "output_type": "stream",
     "text": [
      "Step 2,800 (N samples: 358,400), Loss: 148.6887 (Recon: 142.5859, KL: 6.1028) Grad: 129.7603\n"
     ]
    },
    {
     "name": "stderr",
     "output_type": "stream",
     "text": [
      "100%|██████████| 469/469 [00:10<00:00, 43.04it/s]\n",
      "Testing: 100%|██████████| 79/79 [00:02<00:00, 30.47it/s]\n"
     ]
    },
    {
     "name": "stdout",
     "output_type": "stream",
     "text": [
      "====> Test set loss: 147.3602 (BCE: 141.1678, KLD: 6.1924)\n",
      "Epoch 7/50\n"
     ]
    },
    {
     "name": "stderr",
     "output_type": "stream",
     "text": [
      " 19%|█▉        | 91/469 [00:03<00:14, 26.17it/s]"
     ]
    },
    {
     "name": "stdout",
     "output_type": "stream",
     "text": [
      "Step 2,900 (N samples: 371,200), Loss: 155.5966 (Recon: 149.6757, KL: 5.9210) Grad: 169.1405\n"
     ]
    },
    {
     "name": "stderr",
     "output_type": "stream",
     "text": [
      " 41%|████      | 191/469 [00:07<00:10, 26.26it/s]"
     ]
    },
    {
     "name": "stdout",
     "output_type": "stream",
     "text": [
      "Step 3,000 (N samples: 384,000), Loss: 145.0508 (Recon: 139.2101, KL: 5.8406) Grad: 175.3316\n"
     ]
    },
    {
     "name": "stderr",
     "output_type": "stream",
     "text": [
      " 62%|██████▏   | 291/469 [00:10<00:06, 26.41it/s]"
     ]
    },
    {
     "name": "stdout",
     "output_type": "stream",
     "text": [
      "Step 3,100 (N samples: 396,800), Loss: 142.4335 (Recon: 136.4167, KL: 6.0168) Grad: 92.6280\n"
     ]
    },
    {
     "name": "stderr",
     "output_type": "stream",
     "text": [
      " 83%|████████▎ | 391/469 [00:14<00:02, 26.18it/s]"
     ]
    },
    {
     "name": "stdout",
     "output_type": "stream",
     "text": [
      "Step 3,200 (N samples: 409,600), Loss: 146.5944 (Recon: 140.4519, KL: 6.1424) Grad: 137.9499\n"
     ]
    },
    {
     "name": "stderr",
     "output_type": "stream",
     "text": [
      "100%|██████████| 469/469 [00:17<00:00, 27.04it/s]\n",
      "Testing: 100%|██████████| 79/79 [00:02<00:00, 30.39it/s]\n"
     ]
    },
    {
     "name": "stdout",
     "output_type": "stream",
     "text": [
      "====> Test set loss: 146.3340 (BCE: 140.0414, KLD: 6.2926)\n",
      "Epoch 8/50\n"
     ]
    },
    {
     "name": "stderr",
     "output_type": "stream",
     "text": [
      "  4%|▍         | 21/469 [00:00<00:16, 26.59it/s]"
     ]
    },
    {
     "name": "stdout",
     "output_type": "stream",
     "text": [
      "Step 3,300 (N samples: 422,400), Loss: 143.3367 (Recon: 137.0928, KL: 6.2439) Grad: 113.9265\n"
     ]
    },
    {
     "name": "stderr",
     "output_type": "stream",
     "text": [
      " 26%|██▌       | 123/469 [00:04<00:12, 26.71it/s]"
     ]
    },
    {
     "name": "stdout",
     "output_type": "stream",
     "text": [
      "Step 3,400 (N samples: 435,200), Loss: 146.5749 (Recon: 140.4833, KL: 6.0916) Grad: 79.4057\n"
     ]
    },
    {
     "name": "stderr",
     "output_type": "stream",
     "text": [
      " 47%|████▋     | 221/469 [00:08<00:09, 26.48it/s]"
     ]
    },
    {
     "name": "stdout",
     "output_type": "stream",
     "text": [
      "Step 3,500 (N samples: 448,000), Loss: 141.3121 (Recon: 135.2363, KL: 6.0759) Grad: 89.1647\n"
     ]
    },
    {
     "name": "stderr",
     "output_type": "stream",
     "text": [
      " 68%|██████▊   | 321/469 [00:11<00:05, 26.47it/s]"
     ]
    },
    {
     "name": "stdout",
     "output_type": "stream",
     "text": [
      "Step 3,600 (N samples: 460,800), Loss: 151.8616 (Recon: 145.5932, KL: 6.2684) Grad: 267.0107\n"
     ]
    },
    {
     "name": "stderr",
     "output_type": "stream",
     "text": [
      " 90%|████████▉ | 420/469 [00:15<00:01, 26.83it/s]"
     ]
    },
    {
     "name": "stdout",
     "output_type": "stream",
     "text": [
      "Step 3,700 (N samples: 473,600), Loss: 151.3661 (Recon: 144.9310, KL: 6.4351) Grad: 236.3901\n"
     ]
    },
    {
     "name": "stderr",
     "output_type": "stream",
     "text": [
      "100%|██████████| 469/469 [00:17<00:00, 27.02it/s]\n",
      "Testing: 100%|██████████| 79/79 [00:02<00:00, 30.29it/s]\n"
     ]
    },
    {
     "name": "stdout",
     "output_type": "stream",
     "text": [
      "====> Test set loss: 150.4332 (BCE: 144.2954, KLD: 6.1379)\n",
      "Epoch 9/50\n"
     ]
    },
    {
     "name": "stderr",
     "output_type": "stream",
     "text": [
      " 11%|█         | 52/469 [00:01<00:15, 26.82it/s]"
     ]
    },
    {
     "name": "stdout",
     "output_type": "stream",
     "text": [
      "Step 3,800 (N samples: 486,400), Loss: 153.4022 (Recon: 147.3986, KL: 6.0036) Grad: 103.9666\n"
     ]
    },
    {
     "name": "stderr",
     "output_type": "stream",
     "text": [
      " 32%|███▏      | 151/469 [00:05<00:12, 26.46it/s]"
     ]
    },
    {
     "name": "stdout",
     "output_type": "stream",
     "text": [
      "Step 3,900 (N samples: 499,200), Loss: 156.3186 (Recon: 150.3227, KL: 5.9959) Grad: 120.8042\n"
     ]
    },
    {
     "name": "stderr",
     "output_type": "stream",
     "text": [
      " 54%|█████▎    | 252/469 [00:09<00:07, 27.83it/s]"
     ]
    },
    {
     "name": "stdout",
     "output_type": "stream",
     "text": [
      "Step 4,000 (N samples: 512,000), Loss: 147.0707 (Recon: 140.9694, KL: 6.1013) Grad: 152.2357\n"
     ]
    },
    {
     "name": "stderr",
     "output_type": "stream",
     "text": [
      " 75%|███████▌  | 354/469 [00:13<00:04, 27.08it/s]"
     ]
    },
    {
     "name": "stdout",
     "output_type": "stream",
     "text": [
      "Step 4,100 (N samples: 524,800), Loss: 152.8269 (Recon: 146.6005, KL: 6.2263) Grad: 88.2370\n"
     ]
    },
    {
     "name": "stderr",
     "output_type": "stream",
     "text": [
      " 97%|█████████▋| 453/469 [00:16<00:00, 26.95it/s]"
     ]
    },
    {
     "name": "stdout",
     "output_type": "stream",
     "text": [
      "Step 4,200 (N samples: 537,600), Loss: 141.5214 (Recon: 135.0523, KL: 6.4691) Grad: 98.4624\n"
     ]
    },
    {
     "name": "stderr",
     "output_type": "stream",
     "text": [
      "100%|██████████| 469/469 [00:17<00:00, 27.17it/s]\n",
      "Testing: 100%|██████████| 79/79 [00:02<00:00, 30.27it/s]\n"
     ]
    },
    {
     "name": "stdout",
     "output_type": "stream",
     "text": [
      "====> Test set loss: 147.5829 (BCE: 141.1549, KLD: 6.4280)\n",
      "Epoch 10/50\n"
     ]
    },
    {
     "name": "stderr",
     "output_type": "stream",
     "text": [
      " 18%|█▊        | 85/469 [00:03<00:14, 26.69it/s]"
     ]
    },
    {
     "name": "stdout",
     "output_type": "stream",
     "text": [
      "Step 4,300 (N samples: 550,400), Loss: 148.7732 (Recon: 142.2520, KL: 6.5212) Grad: 264.1505\n"
     ]
    },
    {
     "name": "stderr",
     "output_type": "stream",
     "text": [
      " 39%|███▉      | 184/469 [00:06<00:10, 26.81it/s]"
     ]
    },
    {
     "name": "stdout",
     "output_type": "stream",
     "text": [
      "Step 4,400 (N samples: 563,200), Loss: 155.5480 (Recon: 149.2308, KL: 6.3172) Grad: 149.7308\n"
     ]
    },
    {
     "name": "stderr",
     "output_type": "stream",
     "text": [
      " 60%|██████    | 283/469 [00:10<00:06, 27.25it/s]"
     ]
    },
    {
     "name": "stdout",
     "output_type": "stream",
     "text": [
      "Step 4,500 (N samples: 576,000), Loss: 139.9070 (Recon: 133.6472, KL: 6.2598) Grad: 112.9248\n"
     ]
    },
    {
     "name": "stderr",
     "output_type": "stream",
     "text": [
      " 82%|████████▏ | 383/469 [00:14<00:03, 26.75it/s]"
     ]
    },
    {
     "name": "stdout",
     "output_type": "stream",
     "text": [
      "Step 4,600 (N samples: 588,800), Loss: 156.5922 (Recon: 150.3451, KL: 6.2471) Grad: 130.4153\n"
     ]
    },
    {
     "name": "stderr",
     "output_type": "stream",
     "text": [
      "100%|██████████| 469/469 [00:17<00:00, 26.96it/s]\n",
      "Testing: 100%|██████████| 79/79 [00:02<00:00, 30.54it/s]\n"
     ]
    },
    {
     "name": "stdout",
     "output_type": "stream",
     "text": [
      "====> Test set loss: 145.1573 (BCE: 138.8526, KLD: 6.3048)\n",
      "Epoch 11/50\n"
     ]
    },
    {
     "name": "stderr",
     "output_type": "stream",
     "text": [
      "  3%|▎         | 15/469 [00:00<00:16, 27.41it/s]"
     ]
    },
    {
     "name": "stdout",
     "output_type": "stream",
     "text": [
      "Step 4,700 (N samples: 601,600), Loss: 152.2429 (Recon: 145.9658, KL: 6.2771) Grad: 128.8583\n"
     ]
    },
    {
     "name": "stderr",
     "output_type": "stream",
     "text": [
      " 24%|██▍       | 114/469 [00:04<00:13, 26.84it/s]"
     ]
    },
    {
     "name": "stdout",
     "output_type": "stream",
     "text": [
      "Step 4,800 (N samples: 614,400), Loss: 139.2098 (Recon: 132.8450, KL: 6.3648) Grad: 162.4326\n"
     ]
    },
    {
     "name": "stderr",
     "output_type": "stream",
     "text": [
      " 46%|████▌     | 214/469 [00:07<00:09, 27.03it/s]"
     ]
    },
    {
     "name": "stdout",
     "output_type": "stream",
     "text": [
      "Step 4,900 (N samples: 627,200), Loss: 152.3143 (Recon: 145.9604, KL: 6.3539) Grad: 440.8467\n"
     ]
    },
    {
     "name": "stderr",
     "output_type": "stream",
     "text": [
      " 67%|██████▋   | 313/469 [00:11<00:05, 26.89it/s]"
     ]
    },
    {
     "name": "stdout",
     "output_type": "stream",
     "text": [
      "Step 5,000 (N samples: 640,000), Loss: 151.7876 (Recon: 145.3977, KL: 6.3898) Grad: 149.7882\n"
     ]
    },
    {
     "name": "stderr",
     "output_type": "stream",
     "text": [
      " 88%|████████▊ | 413/469 [00:15<00:02, 25.88it/s]"
     ]
    },
    {
     "name": "stdout",
     "output_type": "stream",
     "text": [
      "Step 5,100 (N samples: 652,800), Loss: 145.4718 (Recon: 139.4047, KL: 6.0671) Grad: 135.3095\n"
     ]
    },
    {
     "name": "stderr",
     "output_type": "stream",
     "text": [
      "100%|██████████| 469/469 [00:17<00:00, 27.20it/s]\n",
      "Testing: 100%|██████████| 79/79 [00:02<00:00, 30.68it/s]\n"
     ]
    },
    {
     "name": "stdout",
     "output_type": "stream",
     "text": [
      "====> Test set loss: 150.8386 (BCE: 144.3309, KLD: 6.5077)\n",
      "Epoch 12/50\n"
     ]
    },
    {
     "name": "stderr",
     "output_type": "stream",
     "text": [
      " 10%|█         | 47/469 [00:01<00:15, 28.05it/s]"
     ]
    },
    {
     "name": "stdout",
     "output_type": "stream",
     "text": [
      "Step 5,200 (N samples: 665,600), Loss: 147.6591 (Recon: 141.0645, KL: 6.5947) Grad: 168.5778\n"
     ]
    },
    {
     "name": "stderr",
     "output_type": "stream",
     "text": [
      " 31%|███       | 146/469 [00:05<00:11, 27.55it/s]"
     ]
    },
    {
     "name": "stdout",
     "output_type": "stream",
     "text": [
      "Step 5,300 (N samples: 678,400), Loss: 144.6043 (Recon: 138.1398, KL: 6.4645) Grad: 145.7184\n"
     ]
    },
    {
     "name": "stderr",
     "output_type": "stream",
     "text": [
      " 52%|█████▏    | 244/469 [00:08<00:08, 26.76it/s]"
     ]
    },
    {
     "name": "stdout",
     "output_type": "stream",
     "text": [
      "Step 5,400 (N samples: 691,200), Loss: 148.1978 (Recon: 141.6037, KL: 6.5940) Grad: 222.3869\n"
     ]
    },
    {
     "name": "stderr",
     "output_type": "stream",
     "text": [
      " 74%|███████▎  | 345/469 [00:12<00:04, 26.66it/s]"
     ]
    },
    {
     "name": "stdout",
     "output_type": "stream",
     "text": [
      "Step 5,500 (N samples: 704,000), Loss: 145.4615 (Recon: 139.1278, KL: 6.3337) Grad: 140.7071\n"
     ]
    },
    {
     "name": "stderr",
     "output_type": "stream",
     "text": [
      " 95%|█████████▍| 445/469 [00:16<00:00, 27.18it/s]"
     ]
    },
    {
     "name": "stdout",
     "output_type": "stream",
     "text": [
      "Step 5,600 (N samples: 716,800), Loss: 137.0434 (Recon: 130.4476, KL: 6.5958) Grad: 95.0047\n"
     ]
    },
    {
     "name": "stderr",
     "output_type": "stream",
     "text": [
      "100%|██████████| 469/469 [00:17<00:00, 27.36it/s]\n",
      "Testing: 100%|██████████| 79/79 [00:02<00:00, 30.35it/s]\n"
     ]
    },
    {
     "name": "stdout",
     "output_type": "stream",
     "text": [
      "====> Test set loss: 144.2661 (BCE: 137.7357, KLD: 6.5303)\n",
      "Epoch 13/50\n"
     ]
    },
    {
     "name": "stderr",
     "output_type": "stream",
     "text": [
      " 17%|█▋        | 78/469 [00:02<00:14, 26.82it/s]"
     ]
    },
    {
     "name": "stdout",
     "output_type": "stream",
     "text": [
      "Step 5,700 (N samples: 729,600), Loss: 140.2695 (Recon: 133.7386, KL: 6.5310) Grad: 118.4784\n"
     ]
    },
    {
     "name": "stderr",
     "output_type": "stream",
     "text": [
      " 38%|███▊      | 178/469 [00:06<00:10, 27.33it/s]"
     ]
    },
    {
     "name": "stdout",
     "output_type": "stream",
     "text": [
      "Step 5,800 (N samples: 742,400), Loss: 139.1588 (Recon: 132.6398, KL: 6.5190) Grad: 132.9917\n"
     ]
    },
    {
     "name": "stderr",
     "output_type": "stream",
     "text": [
      " 59%|█████▉    | 277/469 [00:10<00:07, 26.85it/s]"
     ]
    },
    {
     "name": "stdout",
     "output_type": "stream",
     "text": [
      "Step 5,900 (N samples: 755,200), Loss: 147.2533 (Recon: 140.8539, KL: 6.3994) Grad: 248.9121\n"
     ]
    },
    {
     "name": "stderr",
     "output_type": "stream",
     "text": [
      " 80%|████████  | 377/469 [00:13<00:03, 26.68it/s]"
     ]
    },
    {
     "name": "stdout",
     "output_type": "stream",
     "text": [
      "Step 6,000 (N samples: 768,000), Loss: 143.9207 (Recon: 137.4083, KL: 6.5123) Grad: 112.4018\n"
     ]
    },
    {
     "name": "stderr",
     "output_type": "stream",
     "text": [
      "100%|██████████| 469/469 [00:17<00:00, 27.27it/s]\n",
      "Testing: 100%|██████████| 79/79 [00:02<00:00, 30.76it/s]\n"
     ]
    },
    {
     "name": "stdout",
     "output_type": "stream",
     "text": [
      "====> Test set loss: 146.6296 (BCE: 140.1815, KLD: 6.4481)\n",
      "Epoch 14/50\n"
     ]
    },
    {
     "name": "stderr",
     "output_type": "stream",
     "text": [
      "  1%|          | 3/469 [00:00<00:17, 26.75it/s]"
     ]
    },
    {
     "name": "stdout",
     "output_type": "stream",
     "text": [
      "Step 6,100 (N samples: 780,800), Loss: 150.7911 (Recon: 144.4591, KL: 6.3319) Grad: 368.4011\n"
     ]
    },
    {
     "name": "stderr",
     "output_type": "stream",
     "text": [
      " 23%|██▎       | 108/469 [00:04<00:13, 26.56it/s]"
     ]
    },
    {
     "name": "stdout",
     "output_type": "stream",
     "text": [
      "Step 6,200 (N samples: 793,600), Loss: 142.0052 (Recon: 135.7169, KL: 6.2883) Grad: 87.6823\n"
     ]
    },
    {
     "name": "stderr",
     "output_type": "stream",
     "text": [
      " 44%|████▍     | 208/469 [00:07<00:09, 26.79it/s]"
     ]
    },
    {
     "name": "stdout",
     "output_type": "stream",
     "text": [
      "Step 6,300 (N samples: 806,400), Loss: 143.0576 (Recon: 136.4753, KL: 6.5823) Grad: 180.2398\n"
     ]
    },
    {
     "name": "stderr",
     "output_type": "stream",
     "text": [
      " 66%|██████▌   | 308/469 [00:11<00:05, 27.27it/s]"
     ]
    },
    {
     "name": "stdout",
     "output_type": "stream",
     "text": [
      "Step 6,400 (N samples: 819,200), Loss: 138.3447 (Recon: 132.0515, KL: 6.2932) Grad: 92.7837\n"
     ]
    },
    {
     "name": "stderr",
     "output_type": "stream",
     "text": [
      " 87%|████████▋ | 407/469 [00:15<00:02, 27.55it/s]"
     ]
    },
    {
     "name": "stdout",
     "output_type": "stream",
     "text": [
      "Step 6,500 (N samples: 832,000), Loss: 146.3731 (Recon: 139.9692, KL: 6.4039) Grad: 164.9674\n"
     ]
    },
    {
     "name": "stderr",
     "output_type": "stream",
     "text": [
      "100%|██████████| 469/469 [00:17<00:00, 27.09it/s]\n",
      "Testing: 100%|██████████| 79/79 [00:02<00:00, 30.80it/s]\n"
     ]
    },
    {
     "name": "stdout",
     "output_type": "stream",
     "text": [
      "====> Test set loss: 144.9010 (BCE: 138.3608, KLD: 6.5401)\n",
      "Epoch 15/50\n"
     ]
    },
    {
     "name": "stderr",
     "output_type": "stream",
     "text": [
      "  8%|▊         | 39/469 [00:01<00:15, 27.00it/s]"
     ]
    },
    {
     "name": "stdout",
     "output_type": "stream",
     "text": [
      "Step 6,600 (N samples: 844,800), Loss: 142.4290 (Recon: 135.8393, KL: 6.5898) Grad: 191.8654\n"
     ]
    },
    {
     "name": "stderr",
     "output_type": "stream",
     "text": [
      " 30%|██▉       | 139/469 [00:05<00:11, 27.53it/s]"
     ]
    },
    {
     "name": "stdout",
     "output_type": "stream",
     "text": [
      "Step 6,700 (N samples: 857,600), Loss: 149.8762 (Recon: 143.5018, KL: 6.3745) Grad: 95.2891\n"
     ]
    },
    {
     "name": "stderr",
     "output_type": "stream",
     "text": [
      " 51%|█████     | 239/469 [00:08<00:08, 27.29it/s]"
     ]
    },
    {
     "name": "stdout",
     "output_type": "stream",
     "text": [
      "Step 6,800 (N samples: 870,400), Loss: 143.0607 (Recon: 136.3445, KL: 6.7162) Grad: 225.2117\n"
     ]
    },
    {
     "name": "stderr",
     "output_type": "stream",
     "text": [
      " 72%|███████▏  | 340/469 [00:12<00:04, 26.92it/s]"
     ]
    },
    {
     "name": "stdout",
     "output_type": "stream",
     "text": [
      "Step 6,900 (N samples: 883,200), Loss: 146.3121 (Recon: 139.9986, KL: 6.3134) Grad: 184.5044\n"
     ]
    },
    {
     "name": "stderr",
     "output_type": "stream",
     "text": [
      " 93%|█████████▎| 437/469 [00:16<00:01, 26.12it/s]"
     ]
    },
    {
     "name": "stdout",
     "output_type": "stream",
     "text": [
      "Step 7,000 (N samples: 896,000), Loss: 142.0360 (Recon: 135.4406, KL: 6.5954) Grad: 91.3979\n"
     ]
    },
    {
     "name": "stderr",
     "output_type": "stream",
     "text": [
      "100%|██████████| 469/469 [00:17<00:00, 27.07it/s]\n",
      "Testing: 100%|██████████| 79/79 [00:02<00:00, 30.71it/s]\n"
     ]
    },
    {
     "name": "stdout",
     "output_type": "stream",
     "text": [
      "====> Test set loss: 144.3241 (BCE: 137.7816, KLD: 6.5425)\n",
      "Epoch 16/50\n"
     ]
    },
    {
     "name": "stderr",
     "output_type": "stream",
     "text": [
      " 15%|█▍        | 70/469 [00:02<00:14, 27.63it/s]"
     ]
    },
    {
     "name": "stdout",
     "output_type": "stream",
     "text": [
      "Step 7,100 (N samples: 908,800), Loss: 142.4810 (Recon: 135.8714, KL: 6.6096) Grad: 147.4263\n"
     ]
    },
    {
     "name": "stderr",
     "output_type": "stream",
     "text": [
      " 36%|███▌      | 170/469 [00:06<00:10, 27.27it/s]"
     ]
    },
    {
     "name": "stdout",
     "output_type": "stream",
     "text": [
      "Step 7,200 (N samples: 921,600), Loss: 140.5329 (Recon: 134.3735, KL: 6.1594) Grad: 177.8372\n"
     ]
    },
    {
     "name": "stderr",
     "output_type": "stream",
     "text": [
      " 58%|█████▊    | 270/469 [00:09<00:07, 26.50it/s]"
     ]
    },
    {
     "name": "stdout",
     "output_type": "stream",
     "text": [
      "Step 7,300 (N samples: 934,400), Loss: 145.9349 (Recon: 139.6652, KL: 6.2697) Grad: 124.8610\n"
     ]
    },
    {
     "name": "stderr",
     "output_type": "stream",
     "text": [
      " 79%|███████▉  | 370/469 [00:13<00:03, 27.13it/s]"
     ]
    },
    {
     "name": "stdout",
     "output_type": "stream",
     "text": [
      "Step 7,400 (N samples: 947,200), Loss: 150.4821 (Recon: 143.9550, KL: 6.5271) Grad: 161.0531\n"
     ]
    },
    {
     "name": "stderr",
     "output_type": "stream",
     "text": [
      "100%|██████████| 469/469 [00:17<00:00, 27.08it/s]\n"
     ]
    },
    {
     "name": "stdout",
     "output_type": "stream",
     "text": [
      "Step 7,500 (N samples: 960,000), Loss: 139.4458 (Recon: 132.8924, KL: 6.5534) Grad: 193.2091\n"
     ]
    },
    {
     "name": "stderr",
     "output_type": "stream",
     "text": [
      "Testing: 100%|██████████| 79/79 [00:02<00:00, 30.51it/s]\n"
     ]
    },
    {
     "name": "stdout",
     "output_type": "stream",
     "text": [
      "====> Test set loss: 146.2841 (BCE: 139.8472, KLD: 6.4370)\n",
      "Epoch 17/50\n"
     ]
    },
    {
     "name": "stderr",
     "output_type": "stream",
     "text": [
      " 22%|██▏       | 102/469 [00:03<00:13, 26.74it/s]"
     ]
    },
    {
     "name": "stdout",
     "output_type": "stream",
     "text": [
      "Step 7,600 (N samples: 972,800), Loss: 140.4330 (Recon: 133.5810, KL: 6.8520) Grad: 189.1828\n"
     ]
    },
    {
     "name": "stderr",
     "output_type": "stream",
     "text": [
      " 43%|████▎     | 201/469 [00:07<00:09, 27.51it/s]"
     ]
    },
    {
     "name": "stdout",
     "output_type": "stream",
     "text": [
      "Step 7,700 (N samples: 985,600), Loss: 139.2020 (Recon: 132.5760, KL: 6.6261) Grad: 184.7240\n"
     ]
    },
    {
     "name": "stderr",
     "output_type": "stream",
     "text": [
      " 64%|██████▍   | 301/469 [00:11<00:06, 26.29it/s]"
     ]
    },
    {
     "name": "stdout",
     "output_type": "stream",
     "text": [
      "Step 7,800 (N samples: 998,400), Loss: 158.7542 (Recon: 152.2408, KL: 6.5134) Grad: 137.4490\n"
     ]
    },
    {
     "name": "stderr",
     "output_type": "stream",
     "text": [
      " 85%|████████▌ | 400/469 [00:14<00:02, 26.71it/s]"
     ]
    },
    {
     "name": "stdout",
     "output_type": "stream",
     "text": [
      "Step 7,900 (N samples: 1,011,200), Loss: 152.3098 (Recon: 145.8798, KL: 6.4300) Grad: 255.5649\n"
     ]
    },
    {
     "name": "stderr",
     "output_type": "stream",
     "text": [
      "100%|██████████| 469/469 [00:17<00:00, 27.22it/s]\n",
      "Testing: 100%|██████████| 79/79 [00:02<00:00, 30.32it/s]\n"
     ]
    },
    {
     "name": "stdout",
     "output_type": "stream",
     "text": [
      "====> Test set loss: 146.4215 (BCE: 139.6467, KLD: 6.7747)\n",
      "Epoch 18/50\n"
     ]
    },
    {
     "name": "stderr",
     "output_type": "stream",
     "text": [
      "  7%|▋         | 31/469 [00:01<00:16, 27.20it/s]"
     ]
    },
    {
     "name": "stdout",
     "output_type": "stream",
     "text": [
      "Step 8,000 (N samples: 1,024,000), Loss: 143.4763 (Recon: 137.0304, KL: 6.4458) Grad: 134.5655\n"
     ]
    },
    {
     "name": "stderr",
     "output_type": "stream",
     "text": [
      " 28%|██▊       | 131/469 [00:04<00:12, 27.09it/s]"
     ]
    },
    {
     "name": "stdout",
     "output_type": "stream",
     "text": [
      "Step 8,100 (N samples: 1,036,800), Loss: 141.6666 (Recon: 135.0732, KL: 6.5934) Grad: 258.0574\n"
     ]
    },
    {
     "name": "stderr",
     "output_type": "stream",
     "text": [
      " 50%|████▉     | 233/469 [00:08<00:08, 27.29it/s]"
     ]
    },
    {
     "name": "stdout",
     "output_type": "stream",
     "text": [
      "Step 8,200 (N samples: 1,049,600), Loss: 148.0741 (Recon: 141.6626, KL: 6.4115) Grad: 237.3789\n"
     ]
    },
    {
     "name": "stderr",
     "output_type": "stream",
     "text": [
      " 71%|███████   | 332/469 [00:12<00:05, 26.92it/s]"
     ]
    },
    {
     "name": "stdout",
     "output_type": "stream",
     "text": [
      "Step 8,300 (N samples: 1,062,400), Loss: 142.0352 (Recon: 135.8047, KL: 6.2305) Grad: 210.6571\n"
     ]
    },
    {
     "name": "stderr",
     "output_type": "stream",
     "text": [
      " 92%|█████████▏| 431/469 [00:15<00:01, 27.22it/s]"
     ]
    },
    {
     "name": "stdout",
     "output_type": "stream",
     "text": [
      "Step 8,400 (N samples: 1,075,200), Loss: 145.6082 (Recon: 138.7081, KL: 6.9001) Grad: 114.0599\n"
     ]
    },
    {
     "name": "stderr",
     "output_type": "stream",
     "text": [
      "100%|██████████| 469/469 [00:17<00:00, 27.46it/s]\n",
      "Testing: 100%|██████████| 79/79 [00:02<00:00, 31.05it/s]\n"
     ]
    },
    {
     "name": "stdout",
     "output_type": "stream",
     "text": [
      "====> Test set loss: 149.1624 (BCE: 142.5326, KLD: 6.6298)\n",
      "Epoch 19/50\n"
     ]
    },
    {
     "name": "stderr",
     "output_type": "stream",
     "text": [
      " 13%|█▎        | 63/469 [00:02<00:14, 27.93it/s]"
     ]
    },
    {
     "name": "stdout",
     "output_type": "stream",
     "text": [
      "Step 8,500 (N samples: 1,088,000), Loss: 151.9392 (Recon: 145.1972, KL: 6.7420) Grad: 134.8092\n"
     ]
    },
    {
     "name": "stderr",
     "output_type": "stream",
     "text": [
      " 35%|███▍      | 162/469 [00:05<00:11, 27.58it/s]"
     ]
    },
    {
     "name": "stdout",
     "output_type": "stream",
     "text": [
      "Step 8,600 (N samples: 1,100,800), Loss: 149.0642 (Recon: 142.6238, KL: 6.4404) Grad: 171.9902\n"
     ]
    },
    {
     "name": "stderr",
     "output_type": "stream",
     "text": [
      " 56%|█████▋    | 264/469 [00:09<00:07, 26.88it/s]"
     ]
    },
    {
     "name": "stdout",
     "output_type": "stream",
     "text": [
      "Step 8,700 (N samples: 1,113,600), Loss: 149.0979 (Recon: 142.1936, KL: 6.9042) Grad: 145.6133\n"
     ]
    },
    {
     "name": "stderr",
     "output_type": "stream",
     "text": [
      " 78%|███████▊  | 364/469 [00:13<00:03, 26.84it/s]"
     ]
    },
    {
     "name": "stdout",
     "output_type": "stream",
     "text": [
      "Step 8,800 (N samples: 1,126,400), Loss: 145.4943 (Recon: 138.7405, KL: 6.7537) Grad: 190.5427\n"
     ]
    },
    {
     "name": "stderr",
     "output_type": "stream",
     "text": [
      " 99%|█████████▉| 464/469 [00:16<00:00, 27.09it/s]"
     ]
    },
    {
     "name": "stdout",
     "output_type": "stream",
     "text": [
      "Step 8,900 (N samples: 1,139,200), Loss: 160.2682 (Recon: 153.8070, KL: 6.4612) Grad: 235.4270\n"
     ]
    },
    {
     "name": "stderr",
     "output_type": "stream",
     "text": [
      "100%|██████████| 469/469 [00:17<00:00, 27.42it/s]\n",
      "Testing: 100%|██████████| 79/79 [00:02<00:00, 30.21it/s]\n"
     ]
    },
    {
     "name": "stdout",
     "output_type": "stream",
     "text": [
      "====> Test set loss: 145.5786 (BCE: 139.0069, KLD: 6.5717)\n",
      "Epoch 20/50\n"
     ]
    },
    {
     "name": "stderr",
     "output_type": "stream",
     "text": [
      " 20%|█▉        | 93/469 [00:03<00:14, 26.07it/s]"
     ]
    },
    {
     "name": "stdout",
     "output_type": "stream",
     "text": [
      "Step 9,000 (N samples: 1,152,000), Loss: 159.0470 (Recon: 152.6268, KL: 6.4202) Grad: 163.2463\n"
     ]
    },
    {
     "name": "stderr",
     "output_type": "stream",
     "text": [
      " 42%|████▏     | 195/469 [00:07<00:09, 27.40it/s]"
     ]
    },
    {
     "name": "stdout",
     "output_type": "stream",
     "text": [
      "Step 9,100 (N samples: 1,164,800), Loss: 147.5431 (Recon: 140.8306, KL: 6.7125) Grad: 177.5315\n"
     ]
    },
    {
     "name": "stderr",
     "output_type": "stream",
     "text": [
      " 63%|██████▎   | 295/469 [00:10<00:06, 27.23it/s]"
     ]
    },
    {
     "name": "stdout",
     "output_type": "stream",
     "text": [
      "Step 9,200 (N samples: 1,177,600), Loss: 140.3705 (Recon: 133.7907, KL: 6.5798) Grad: 136.5153\n"
     ]
    },
    {
     "name": "stderr",
     "output_type": "stream",
     "text": [
      " 84%|████████▍ | 394/469 [00:14<00:02, 27.42it/s]"
     ]
    },
    {
     "name": "stdout",
     "output_type": "stream",
     "text": [
      "Step 9,300 (N samples: 1,190,400), Loss: 139.8920 (Recon: 133.3594, KL: 6.5326) Grad: 189.7979\n"
     ]
    },
    {
     "name": "stderr",
     "output_type": "stream",
     "text": [
      "100%|██████████| 469/469 [00:17<00:00, 27.27it/s]\n",
      "Testing: 100%|██████████| 79/79 [00:02<00:00, 30.28it/s]\n"
     ]
    },
    {
     "name": "stdout",
     "output_type": "stream",
     "text": [
      "====> Test set loss: 146.0714 (BCE: 139.5274, KLD: 6.5440)\n",
      "Epoch 21/50\n"
     ]
    },
    {
     "name": "stderr",
     "output_type": "stream",
     "text": [
      "  5%|▌         | 24/469 [00:00<00:16, 27.00it/s]"
     ]
    },
    {
     "name": "stdout",
     "output_type": "stream",
     "text": [
      "Step 9,400 (N samples: 1,203,200), Loss: 149.3599 (Recon: 142.8249, KL: 6.5350) Grad: 213.3450\n"
     ]
    },
    {
     "name": "stderr",
     "output_type": "stream",
     "text": [
      " 27%|██▋       | 126/469 [00:04<00:12, 27.42it/s]"
     ]
    },
    {
     "name": "stdout",
     "output_type": "stream",
     "text": [
      "Step 9,500 (N samples: 1,216,000), Loss: 156.5752 (Recon: 150.1067, KL: 6.4685) Grad: 271.2029\n"
     ]
    },
    {
     "name": "stderr",
     "output_type": "stream",
     "text": [
      " 48%|████▊     | 225/469 [00:08<00:09, 26.13it/s]"
     ]
    },
    {
     "name": "stdout",
     "output_type": "stream",
     "text": [
      "Step 9,600 (N samples: 1,228,800), Loss: 153.7760 (Recon: 147.0066, KL: 6.7694) Grad: 159.5981\n"
     ]
    },
    {
     "name": "stderr",
     "output_type": "stream",
     "text": [
      " 69%|██████▉   | 324/469 [00:11<00:05, 26.83it/s]"
     ]
    },
    {
     "name": "stdout",
     "output_type": "stream",
     "text": [
      "Step 9,700 (N samples: 1,241,600), Loss: 143.5733 (Recon: 136.9372, KL: 6.6361) Grad: 95.5333\n"
     ]
    },
    {
     "name": "stderr",
     "output_type": "stream",
     "text": [
      " 91%|█████████ | 426/469 [00:15<00:01, 26.32it/s]"
     ]
    },
    {
     "name": "stdout",
     "output_type": "stream",
     "text": [
      "Step 9,800 (N samples: 1,254,400), Loss: 147.2012 (Recon: 140.5772, KL: 6.6240) Grad: 223.0576\n"
     ]
    },
    {
     "name": "stderr",
     "output_type": "stream",
     "text": [
      "100%|██████████| 469/469 [00:17<00:00, 27.20it/s]\n",
      "Testing: 100%|██████████| 79/79 [00:02<00:00, 30.36it/s]\n"
     ]
    },
    {
     "name": "stdout",
     "output_type": "stream",
     "text": [
      "====> Test set loss: 144.1623 (BCE: 137.6351, KLD: 6.5272)\n",
      "Epoch 22/50\n"
     ]
    },
    {
     "name": "stderr",
     "output_type": "stream",
     "text": [
      " 12%|█▏        | 57/469 [00:02<00:15, 26.91it/s]"
     ]
    },
    {
     "name": "stdout",
     "output_type": "stream",
     "text": [
      "Step 9,900 (N samples: 1,267,200), Loss: 139.4759 (Recon: 132.8278, KL: 6.6481) Grad: 164.3661\n"
     ]
    },
    {
     "name": "stderr",
     "output_type": "stream",
     "text": [
      " 33%|███▎      | 156/469 [00:05<00:11, 27.25it/s]"
     ]
    },
    {
     "name": "stdout",
     "output_type": "stream",
     "text": [
      "Step 10,000 (N samples: 1,280,000), Loss: 142.5987 (Recon: 135.9670, KL: 6.6316) Grad: 209.0699\n"
     ]
    },
    {
     "name": "stderr",
     "output_type": "stream",
     "text": [
      " 55%|█████▍    | 256/469 [00:09<00:07, 26.66it/s]"
     ]
    },
    {
     "name": "stdout",
     "output_type": "stream",
     "text": [
      "Step 10,100 (N samples: 1,292,800), Loss: 145.4376 (Recon: 138.7131, KL: 6.7246) Grad: 196.8727\n"
     ]
    },
    {
     "name": "stderr",
     "output_type": "stream",
     "text": [
      " 76%|███████▌  | 355/469 [00:13<00:04, 27.14it/s]"
     ]
    },
    {
     "name": "stdout",
     "output_type": "stream",
     "text": [
      "Step 10,200 (N samples: 1,305,600), Loss: 139.1679 (Recon: 132.5041, KL: 6.6638) Grad: 111.3380\n"
     ]
    },
    {
     "name": "stderr",
     "output_type": "stream",
     "text": [
      " 97%|█████████▋| 457/469 [00:16<00:00, 27.22it/s]"
     ]
    },
    {
     "name": "stdout",
     "output_type": "stream",
     "text": [
      "Step 10,300 (N samples: 1,318,400), Loss: 142.3943 (Recon: 135.5853, KL: 6.8090) Grad: 138.1791\n"
     ]
    },
    {
     "name": "stderr",
     "output_type": "stream",
     "text": [
      "100%|██████████| 469/469 [00:17<00:00, 27.29it/s]\n",
      "Testing: 100%|██████████| 79/79 [00:02<00:00, 30.19it/s]\n"
     ]
    },
    {
     "name": "stdout",
     "output_type": "stream",
     "text": [
      "====> Test set loss: 145.0965 (BCE: 138.5479, KLD: 6.5486)\n",
      "Epoch 23/50\n"
     ]
    },
    {
     "name": "stderr",
     "output_type": "stream",
     "text": [
      " 19%|█▉        | 88/469 [00:03<00:14, 27.17it/s]"
     ]
    },
    {
     "name": "stdout",
     "output_type": "stream",
     "text": [
      "Step 10,400 (N samples: 1,331,200), Loss: 141.5574 (Recon: 134.7672, KL: 6.7901) Grad: 86.8273\n"
     ]
    },
    {
     "name": "stderr",
     "output_type": "stream",
     "text": [
      " 40%|███▉      | 186/469 [00:06<00:10, 26.83it/s]"
     ]
    },
    {
     "name": "stdout",
     "output_type": "stream",
     "text": [
      "Step 10,500 (N samples: 1,344,000), Loss: 147.8038 (Recon: 141.0014, KL: 6.8024) Grad: 172.8283\n"
     ]
    },
    {
     "name": "stderr",
     "output_type": "stream",
     "text": [
      " 61%|██████▏   | 288/469 [00:10<00:06, 27.47it/s]"
     ]
    },
    {
     "name": "stdout",
     "output_type": "stream",
     "text": [
      "Step 10,600 (N samples: 1,356,800), Loss: 147.7937 (Recon: 141.1232, KL: 6.6705) Grad: 138.7581\n"
     ]
    },
    {
     "name": "stderr",
     "output_type": "stream",
     "text": [
      " 83%|████████▎ | 388/469 [00:14<00:02, 27.38it/s]"
     ]
    },
    {
     "name": "stdout",
     "output_type": "stream",
     "text": [
      "Step 10,700 (N samples: 1,369,600), Loss: 146.3839 (Recon: 139.7990, KL: 6.5849) Grad: 111.6493\n"
     ]
    },
    {
     "name": "stderr",
     "output_type": "stream",
     "text": [
      "100%|██████████| 469/469 [00:17<00:00, 27.52it/s]\n",
      "Testing: 100%|██████████| 79/79 [00:02<00:00, 31.28it/s]\n"
     ]
    },
    {
     "name": "stdout",
     "output_type": "stream",
     "text": [
      "====> Test set loss: 142.6555 (BCE: 135.9616, KLD: 6.6939)\n",
      "Epoch 24/50\n"
     ]
    },
    {
     "name": "stderr",
     "output_type": "stream",
     "text": [
      "  4%|▍         | 18/469 [00:00<00:16, 26.66it/s]"
     ]
    },
    {
     "name": "stdout",
     "output_type": "stream",
     "text": [
      "Step 10,800 (N samples: 1,382,400), Loss: 145.7137 (Recon: 139.0282, KL: 6.6855) Grad: 149.4079\n"
     ]
    },
    {
     "name": "stderr",
     "output_type": "stream",
     "text": [
      " 25%|██▍       | 117/469 [00:04<00:12, 27.13it/s]"
     ]
    },
    {
     "name": "stdout",
     "output_type": "stream",
     "text": [
      "Step 10,900 (N samples: 1,395,200), Loss: 145.4175 (Recon: 138.6363, KL: 6.7812) Grad: 255.2508\n"
     ]
    },
    {
     "name": "stderr",
     "output_type": "stream",
     "text": [
      " 46%|████▋     | 218/469 [00:07<00:08, 27.92it/s]"
     ]
    },
    {
     "name": "stdout",
     "output_type": "stream",
     "text": [
      "Step 11,000 (N samples: 1,408,000), Loss: 139.5135 (Recon: 132.8969, KL: 6.6166) Grad: 110.4708\n"
     ]
    },
    {
     "name": "stderr",
     "output_type": "stream",
     "text": [
      " 68%|██████▊   | 317/469 [00:11<00:05, 27.94it/s]"
     ]
    },
    {
     "name": "stdout",
     "output_type": "stream",
     "text": [
      "Step 11,100 (N samples: 1,420,800), Loss: 135.8640 (Recon: 129.2956, KL: 6.5684) Grad: 129.1397\n"
     ]
    },
    {
     "name": "stderr",
     "output_type": "stream",
     "text": [
      " 89%|████████▊ | 416/469 [00:15<00:02, 25.49it/s]"
     ]
    },
    {
     "name": "stdout",
     "output_type": "stream",
     "text": [
      "Step 11,200 (N samples: 1,433,600), Loss: 141.0159 (Recon: 134.2966, KL: 6.7193) Grad: 195.8957\n"
     ]
    },
    {
     "name": "stderr",
     "output_type": "stream",
     "text": [
      "100%|██████████| 469/469 [00:17<00:00, 27.37it/s]\n",
      "Testing: 100%|██████████| 79/79 [00:02<00:00, 29.76it/s]\n"
     ]
    },
    {
     "name": "stdout",
     "output_type": "stream",
     "text": [
      "====> Test set loss: 141.7894 (BCE: 135.0596, KLD: 6.7298)\n",
      "Epoch 25/50\n"
     ]
    },
    {
     "name": "stderr",
     "output_type": "stream",
     "text": [
      " 10%|█         | 49/469 [00:01<00:15, 27.21it/s]"
     ]
    },
    {
     "name": "stdout",
     "output_type": "stream",
     "text": [
      "Step 11,300 (N samples: 1,446,400), Loss: 141.6493 (Recon: 134.8484, KL: 6.8009) Grad: 192.9177\n"
     ]
    },
    {
     "name": "stderr",
     "output_type": "stream",
     "text": [
      " 32%|███▏      | 149/469 [00:05<00:11, 27.22it/s]"
     ]
    },
    {
     "name": "stdout",
     "output_type": "stream",
     "text": [
      "Step 11,400 (N samples: 1,459,200), Loss: 140.2361 (Recon: 133.5574, KL: 6.6787) Grad: 159.8358\n"
     ]
    },
    {
     "name": "stderr",
     "output_type": "stream",
     "text": [
      " 53%|█████▎    | 249/469 [00:09<00:08, 26.86it/s]"
     ]
    },
    {
     "name": "stdout",
     "output_type": "stream",
     "text": [
      "Step 11,500 (N samples: 1,472,000), Loss: 146.7119 (Recon: 140.1433, KL: 6.5686) Grad: 245.0732\n"
     ]
    },
    {
     "name": "stderr",
     "output_type": "stream",
     "text": [
      " 74%|███████▍  | 348/469 [00:12<00:04, 26.31it/s]"
     ]
    },
    {
     "name": "stdout",
     "output_type": "stream",
     "text": [
      "Step 11,600 (N samples: 1,484,800), Loss: 148.7114 (Recon: 142.2212, KL: 6.4902) Grad: 260.9293\n"
     ]
    },
    {
     "name": "stderr",
     "output_type": "stream",
     "text": [
      " 96%|█████████▌| 448/469 [00:16<00:00, 25.84it/s]"
     ]
    },
    {
     "name": "stdout",
     "output_type": "stream",
     "text": [
      "Step 11,700 (N samples: 1,497,600), Loss: 138.9122 (Recon: 132.2652, KL: 6.6470) Grad: 181.7028\n"
     ]
    },
    {
     "name": "stderr",
     "output_type": "stream",
     "text": [
      "100%|██████████| 469/469 [00:17<00:00, 26.95it/s]\n",
      "Testing: 100%|██████████| 79/79 [00:02<00:00, 29.83it/s]\n"
     ]
    },
    {
     "name": "stdout",
     "output_type": "stream",
     "text": [
      "====> Test set loss: 141.7294 (BCE: 134.9033, KLD: 6.8260)\n",
      "Epoch 26/50\n"
     ]
    },
    {
     "name": "stderr",
     "output_type": "stream",
     "text": [
      " 17%|█▋        | 81/469 [00:02<00:13, 28.15it/s]"
     ]
    },
    {
     "name": "stdout",
     "output_type": "stream",
     "text": [
      "Step 11,800 (N samples: 1,510,400), Loss: 139.3174 (Recon: 132.6312, KL: 6.6862) Grad: 140.2605\n"
     ]
    },
    {
     "name": "stderr",
     "output_type": "stream",
     "text": [
      " 38%|███▊      | 179/469 [00:06<00:10, 27.17it/s]"
     ]
    },
    {
     "name": "stdout",
     "output_type": "stream",
     "text": [
      "Step 11,900 (N samples: 1,523,200), Loss: 143.6271 (Recon: 136.6192, KL: 7.0078) Grad: 199.9342\n"
     ]
    },
    {
     "name": "stderr",
     "output_type": "stream",
     "text": [
      " 59%|█████▉    | 279/469 [00:10<00:07, 25.97it/s]"
     ]
    },
    {
     "name": "stdout",
     "output_type": "stream",
     "text": [
      "Step 12,000 (N samples: 1,536,000), Loss: 143.0637 (Recon: 136.3579, KL: 6.7057) Grad: 170.0417\n"
     ]
    },
    {
     "name": "stderr",
     "output_type": "stream",
     "text": [
      " 81%|████████  | 381/469 [00:14<00:03, 25.65it/s]"
     ]
    },
    {
     "name": "stdout",
     "output_type": "stream",
     "text": [
      "Step 12,100 (N samples: 1,548,800), Loss: 136.2339 (Recon: 129.3813, KL: 6.8526) Grad: 216.8202\n"
     ]
    },
    {
     "name": "stderr",
     "output_type": "stream",
     "text": [
      "100%|██████████| 469/469 [00:17<00:00, 26.98it/s]\n",
      "Testing: 100%|██████████| 79/79 [00:02<00:00, 30.36it/s]\n"
     ]
    },
    {
     "name": "stdout",
     "output_type": "stream",
     "text": [
      "====> Test set loss: 145.0699 (BCE: 138.4829, KLD: 6.5870)\n",
      "Epoch 27/50\n"
     ]
    },
    {
     "name": "stderr",
     "output_type": "stream",
     "text": [
      "  3%|▎         | 12/469 [00:00<00:17, 26.35it/s]"
     ]
    },
    {
     "name": "stdout",
     "output_type": "stream",
     "text": [
      "Step 12,200 (N samples: 1,561,600), Loss: 147.5550 (Recon: 140.9429, KL: 6.6121) Grad: 185.8145\n"
     ]
    },
    {
     "name": "stderr",
     "output_type": "stream",
     "text": [
      " 23%|██▎       | 109/469 [00:04<00:13, 26.79it/s]"
     ]
    },
    {
     "name": "stdout",
     "output_type": "stream",
     "text": [
      "Step 12,300 (N samples: 1,574,400), Loss: 143.1587 (Recon: 136.4644, KL: 6.6943) Grad: 197.7935\n"
     ]
    },
    {
     "name": "stderr",
     "output_type": "stream",
     "text": [
      " 45%|████▍     | 210/469 [00:07<00:09, 27.24it/s]"
     ]
    },
    {
     "name": "stdout",
     "output_type": "stream",
     "text": [
      "Step 12,400 (N samples: 1,587,200), Loss: 141.6006 (Recon: 135.0249, KL: 6.5757) Grad: 173.4220\n"
     ]
    },
    {
     "name": "stderr",
     "output_type": "stream",
     "text": [
      " 66%|██████▋   | 311/469 [00:11<00:06, 26.28it/s]"
     ]
    },
    {
     "name": "stdout",
     "output_type": "stream",
     "text": [
      "Step 12,500 (N samples: 1,600,000), Loss: 145.1072 (Recon: 138.3816, KL: 6.7256) Grad: 129.3599\n"
     ]
    },
    {
     "name": "stderr",
     "output_type": "stream",
     "text": [
      " 88%|████████▊ | 412/469 [00:15<00:02, 26.65it/s]"
     ]
    },
    {
     "name": "stdout",
     "output_type": "stream",
     "text": [
      "Step 12,600 (N samples: 1,612,800), Loss: 148.0062 (Recon: 141.3679, KL: 6.6383) Grad: 191.9741\n"
     ]
    },
    {
     "name": "stderr",
     "output_type": "stream",
     "text": [
      "100%|██████████| 469/469 [00:17<00:00, 27.01it/s]\n",
      "Testing: 100%|██████████| 79/79 [00:02<00:00, 30.58it/s]\n"
     ]
    },
    {
     "name": "stdout",
     "output_type": "stream",
     "text": [
      "====> Test set loss: 148.5870 (BCE: 142.0861, KLD: 6.5009)\n",
      "Epoch 28/50\n"
     ]
    },
    {
     "name": "stderr",
     "output_type": "stream",
     "text": [
      "  9%|▉         | 42/469 [00:01<00:15, 27.12it/s]"
     ]
    },
    {
     "name": "stdout",
     "output_type": "stream",
     "text": [
      "Step 12,700 (N samples: 1,625,600), Loss: 153.6921 (Recon: 146.9834, KL: 6.7086) Grad: 215.5005\n"
     ]
    },
    {
     "name": "stderr",
     "output_type": "stream",
     "text": [
      " 30%|███       | 141/469 [00:05<00:12, 27.03it/s]"
     ]
    },
    {
     "name": "stdout",
     "output_type": "stream",
     "text": [
      "Step 12,800 (N samples: 1,638,400), Loss: 139.1076 (Recon: 132.5038, KL: 6.6037) Grad: 193.2558\n"
     ]
    },
    {
     "name": "stderr",
     "output_type": "stream",
     "text": [
      " 51%|█████▏    | 241/469 [00:08<00:08, 25.88it/s]"
     ]
    },
    {
     "name": "stdout",
     "output_type": "stream",
     "text": [
      "Step 12,900 (N samples: 1,651,200), Loss: 149.1509 (Recon: 142.5209, KL: 6.6300) Grad: 347.8913\n"
     ]
    },
    {
     "name": "stderr",
     "output_type": "stream",
     "text": [
      " 72%|███████▏  | 340/469 [00:12<00:04, 26.79it/s]"
     ]
    },
    {
     "name": "stdout",
     "output_type": "stream",
     "text": [
      "Step 13,000 (N samples: 1,664,000), Loss: 141.1545 (Recon: 134.5600, KL: 6.5945) Grad: 149.5091\n"
     ]
    },
    {
     "name": "stderr",
     "output_type": "stream",
     "text": [
      " 94%|█████████▍| 441/469 [00:16<00:01, 26.22it/s]"
     ]
    },
    {
     "name": "stdout",
     "output_type": "stream",
     "text": [
      "Step 13,100 (N samples: 1,676,800), Loss: 142.4068 (Recon: 135.6945, KL: 6.7123) Grad: 197.1226\n"
     ]
    },
    {
     "name": "stderr",
     "output_type": "stream",
     "text": [
      "100%|██████████| 469/469 [00:17<00:00, 26.83it/s]\n",
      "Testing: 100%|██████████| 79/79 [00:02<00:00, 30.75it/s]\n"
     ]
    },
    {
     "name": "stdout",
     "output_type": "stream",
     "text": [
      "====> Test set loss: 141.3479 (BCE: 134.5265, KLD: 6.8214)\n",
      "Epoch 29/50\n"
     ]
    },
    {
     "name": "stderr",
     "output_type": "stream",
     "text": [
      " 16%|█▌        | 73/469 [00:02<00:14, 26.69it/s]"
     ]
    },
    {
     "name": "stdout",
     "output_type": "stream",
     "text": [
      "Step 13,200 (N samples: 1,689,600), Loss: 143.4361 (Recon: 136.6345, KL: 6.8016) Grad: 196.7796\n"
     ]
    },
    {
     "name": "stderr",
     "output_type": "stream",
     "text": [
      " 37%|███▋      | 174/469 [00:06<00:10, 27.25it/s]"
     ]
    },
    {
     "name": "stdout",
     "output_type": "stream",
     "text": [
      "Step 13,300 (N samples: 1,702,400), Loss: 150.0468 (Recon: 143.4086, KL: 6.6381) Grad: 226.8135\n"
     ]
    },
    {
     "name": "stderr",
     "output_type": "stream",
     "text": [
      " 58%|█████▊    | 271/469 [00:09<00:07, 26.43it/s]"
     ]
    },
    {
     "name": "stdout",
     "output_type": "stream",
     "text": [
      "Step 13,400 (N samples: 1,715,200), Loss: 141.4230 (Recon: 134.6029, KL: 6.8201) Grad: 128.7516\n"
     ]
    },
    {
     "name": "stderr",
     "output_type": "stream",
     "text": [
      " 80%|███████▉  | 374/469 [00:13<00:03, 27.45it/s]"
     ]
    },
    {
     "name": "stdout",
     "output_type": "stream",
     "text": [
      "Step 13,500 (N samples: 1,728,000), Loss: 133.7555 (Recon: 127.1617, KL: 6.5938) Grad: 102.9318\n"
     ]
    },
    {
     "name": "stderr",
     "output_type": "stream",
     "text": [
      "100%|██████████| 469/469 [00:17<00:00, 27.20it/s]\n"
     ]
    },
    {
     "name": "stdout",
     "output_type": "stream",
     "text": [
      "Step 13,600 (N samples: 1,740,800), Loss: 141.5853 (Recon: 134.9724, KL: 6.6129) Grad: 99.8885\n"
     ]
    },
    {
     "name": "stderr",
     "output_type": "stream",
     "text": [
      "Testing: 100%|██████████| 79/79 [00:02<00:00, 30.57it/s]\n"
     ]
    },
    {
     "name": "stdout",
     "output_type": "stream",
     "text": [
      "====> Test set loss: 143.1261 (BCE: 136.3909, KLD: 6.7351)\n",
      "Epoch 30/50\n"
     ]
    },
    {
     "name": "stderr",
     "output_type": "stream",
     "text": [
      " 22%|██▏       | 105/469 [00:03<00:13, 27.43it/s]"
     ]
    },
    {
     "name": "stdout",
     "output_type": "stream",
     "text": [
      "Step 13,700 (N samples: 1,753,600), Loss: 134.4711 (Recon: 127.6369, KL: 6.8341) Grad: 137.5811\n"
     ]
    },
    {
     "name": "stderr",
     "output_type": "stream",
     "text": [
      " 43%|████▎     | 204/469 [00:07<00:09, 27.23it/s]"
     ]
    },
    {
     "name": "stdout",
     "output_type": "stream",
     "text": [
      "Step 13,800 (N samples: 1,766,400), Loss: 146.7859 (Recon: 139.9452, KL: 6.8407) Grad: 216.8057\n"
     ]
    },
    {
     "name": "stderr",
     "output_type": "stream",
     "text": [
      " 65%|██████▌   | 306/469 [00:11<00:05, 27.93it/s]"
     ]
    },
    {
     "name": "stdout",
     "output_type": "stream",
     "text": [
      "Step 13,900 (N samples: 1,779,200), Loss: 137.7795 (Recon: 131.1411, KL: 6.6384) Grad: 190.9711\n"
     ]
    },
    {
     "name": "stderr",
     "output_type": "stream",
     "text": [
      " 86%|████████▌ | 402/469 [00:14<00:02, 25.34it/s]"
     ]
    },
    {
     "name": "stdout",
     "output_type": "stream",
     "text": [
      "Step 14,000 (N samples: 1,792,000), Loss: 132.0396 (Recon: 125.2902, KL: 6.7494) Grad: 175.7236\n"
     ]
    },
    {
     "name": "stderr",
     "output_type": "stream",
     "text": [
      "100%|██████████| 469/469 [00:17<00:00, 27.32it/s]\n",
      "Testing: 100%|██████████| 79/79 [00:02<00:00, 30.52it/s]\n"
     ]
    },
    {
     "name": "stdout",
     "output_type": "stream",
     "text": [
      "====> Test set loss: 142.2719 (BCE: 135.5885, KLD: 6.6834)\n",
      "Epoch 31/50\n"
     ]
    },
    {
     "name": "stderr",
     "output_type": "stream",
     "text": [
      "  7%|▋         | 35/469 [00:01<00:16, 26.62it/s]"
     ]
    },
    {
     "name": "stdout",
     "output_type": "stream",
     "text": [
      "Step 14,100 (N samples: 1,804,800), Loss: 137.3584 (Recon: 130.5295, KL: 6.8290) Grad: 237.8127\n"
     ]
    },
    {
     "name": "stderr",
     "output_type": "stream",
     "text": [
      " 29%|██▉       | 135/469 [00:04<00:12, 26.49it/s]"
     ]
    },
    {
     "name": "stdout",
     "output_type": "stream",
     "text": [
      "Step 14,200 (N samples: 1,817,600), Loss: 140.1359 (Recon: 133.4146, KL: 6.7214) Grad: 169.7780\n"
     ]
    },
    {
     "name": "stderr",
     "output_type": "stream",
     "text": [
      " 50%|████▉     | 234/469 [00:08<00:08, 26.63it/s]"
     ]
    },
    {
     "name": "stdout",
     "output_type": "stream",
     "text": [
      "Step 14,300 (N samples: 1,830,400), Loss: 135.2652 (Recon: 128.2991, KL: 6.9661) Grad: 157.9133\n"
     ]
    },
    {
     "name": "stderr",
     "output_type": "stream",
     "text": [
      " 71%|███████   | 334/469 [00:12<00:05, 26.45it/s]"
     ]
    },
    {
     "name": "stdout",
     "output_type": "stream",
     "text": [
      "Step 14,400 (N samples: 1,843,200), Loss: 138.7602 (Recon: 132.0347, KL: 6.7255) Grad: 268.0197\n"
     ]
    },
    {
     "name": "stderr",
     "output_type": "stream",
     "text": [
      " 93%|█████████▎| 434/469 [00:16<00:01, 27.71it/s]"
     ]
    },
    {
     "name": "stdout",
     "output_type": "stream",
     "text": [
      "Step 14,500 (N samples: 1,856,000), Loss: 141.4255 (Recon: 134.6372, KL: 6.7883) Grad: 168.1986\n"
     ]
    },
    {
     "name": "stderr",
     "output_type": "stream",
     "text": [
      "100%|██████████| 469/469 [00:17<00:00, 26.98it/s]\n",
      "Testing: 100%|██████████| 79/79 [00:02<00:00, 30.69it/s]\n"
     ]
    },
    {
     "name": "stdout",
     "output_type": "stream",
     "text": [
      "====> Test set loss: 141.2852 (BCE: 134.3948, KLD: 6.8904)\n",
      "Epoch 32/50\n"
     ]
    },
    {
     "name": "stderr",
     "output_type": "stream",
     "text": [
      " 14%|█▎        | 64/469 [00:02<00:15, 26.81it/s]"
     ]
    },
    {
     "name": "stdout",
     "output_type": "stream",
     "text": [
      "Step 14,600 (N samples: 1,868,800), Loss: 142.8187 (Recon: 136.2187, KL: 6.6000) Grad: 134.1950\n"
     ]
    },
    {
     "name": "stderr",
     "output_type": "stream",
     "text": [
      " 35%|███▌      | 166/469 [00:06<00:10, 27.62it/s]"
     ]
    },
    {
     "name": "stdout",
     "output_type": "stream",
     "text": [
      "Step 14,700 (N samples: 1,881,600), Loss: 145.7560 (Recon: 138.9534, KL: 6.8026) Grad: 153.5848\n"
     ]
    },
    {
     "name": "stderr",
     "output_type": "stream",
     "text": [
      " 57%|█████▋    | 265/469 [00:09<00:07, 27.76it/s]"
     ]
    },
    {
     "name": "stdout",
     "output_type": "stream",
     "text": [
      "Step 14,800 (N samples: 1,894,400), Loss: 147.6621 (Recon: 140.8678, KL: 6.7943) Grad: 194.8109\n"
     ]
    },
    {
     "name": "stderr",
     "output_type": "stream",
     "text": [
      " 78%|███████▊  | 365/469 [00:13<00:03, 27.24it/s]"
     ]
    },
    {
     "name": "stdout",
     "output_type": "stream",
     "text": [
      "Step 14,900 (N samples: 1,907,200), Loss: 144.6691 (Recon: 137.9195, KL: 6.7496) Grad: 487.0725\n"
     ]
    },
    {
     "name": "stderr",
     "output_type": "stream",
     "text": [
      " 99%|█████████▉| 465/469 [00:16<00:00, 26.68it/s]"
     ]
    },
    {
     "name": "stdout",
     "output_type": "stream",
     "text": [
      "Step 15,000 (N samples: 1,920,000), Loss: 148.2496 (Recon: 141.3403, KL: 6.9092) Grad: 181.0660\n"
     ]
    },
    {
     "name": "stderr",
     "output_type": "stream",
     "text": [
      "100%|██████████| 469/469 [00:17<00:00, 27.37it/s]\n",
      "Testing: 100%|██████████| 79/79 [00:02<00:00, 31.02it/s]\n"
     ]
    },
    {
     "name": "stdout",
     "output_type": "stream",
     "text": [
      "====> Test set loss: 140.0200 (BCE: 133.2372, KLD: 6.7828)\n",
      "Epoch 33/50\n"
     ]
    },
    {
     "name": "stderr",
     "output_type": "stream",
     "text": [
      " 21%|██        | 98/469 [00:03<00:13, 27.15it/s]"
     ]
    },
    {
     "name": "stdout",
     "output_type": "stream",
     "text": [
      "Step 15,100 (N samples: 1,932,800), Loss: 141.9071 (Recon: 135.2023, KL: 6.7048) Grad: 205.0055\n"
     ]
    },
    {
     "name": "stderr",
     "output_type": "stream",
     "text": [
      " 42%|████▏     | 196/469 [00:07<00:10, 26.46it/s]"
     ]
    },
    {
     "name": "stdout",
     "output_type": "stream",
     "text": [
      "Step 15,200 (N samples: 1,945,600), Loss: 149.0809 (Recon: 142.2867, KL: 6.7943) Grad: 237.0293\n"
     ]
    },
    {
     "name": "stderr",
     "output_type": "stream",
     "text": [
      " 63%|██████▎   | 296/469 [00:10<00:06, 27.49it/s]"
     ]
    },
    {
     "name": "stdout",
     "output_type": "stream",
     "text": [
      "Step 15,300 (N samples: 1,958,400), Loss: 142.7204 (Recon: 136.0893, KL: 6.6311) Grad: 233.8828\n"
     ]
    },
    {
     "name": "stderr",
     "output_type": "stream",
     "text": [
      " 84%|████████▍ | 396/469 [00:14<00:02, 27.99it/s]"
     ]
    },
    {
     "name": "stdout",
     "output_type": "stream",
     "text": [
      "Step 15,400 (N samples: 1,971,200), Loss: 141.9337 (Recon: 135.0972, KL: 6.8365) Grad: 266.9508\n"
     ]
    },
    {
     "name": "stderr",
     "output_type": "stream",
     "text": [
      "100%|██████████| 469/469 [00:17<00:00, 27.43it/s]\n",
      "Testing: 100%|██████████| 79/79 [00:02<00:00, 30.43it/s]\n"
     ]
    },
    {
     "name": "stdout",
     "output_type": "stream",
     "text": [
      "====> Test set loss: 140.7529 (BCE: 133.9129, KLD: 6.8400)\n",
      "Epoch 34/50\n"
     ]
    },
    {
     "name": "stderr",
     "output_type": "stream",
     "text": [
      "  6%|▌         | 27/469 [00:00<00:16, 27.12it/s]"
     ]
    },
    {
     "name": "stdout",
     "output_type": "stream",
     "text": [
      "Step 15,500 (N samples: 1,984,000), Loss: 147.7831 (Recon: 140.9632, KL: 6.8199) Grad: 168.2804\n"
     ]
    },
    {
     "name": "stderr",
     "output_type": "stream",
     "text": [
      " 27%|██▋       | 128/469 [00:04<00:12, 27.79it/s]"
     ]
    },
    {
     "name": "stdout",
     "output_type": "stream",
     "text": [
      "Step 15,600 (N samples: 1,996,800), Loss: 143.2891 (Recon: 136.4655, KL: 6.8236) Grad: 182.0703\n"
     ]
    },
    {
     "name": "stderr",
     "output_type": "stream",
     "text": [
      " 49%|████▊     | 228/469 [00:08<00:08, 27.30it/s]"
     ]
    },
    {
     "name": "stdout",
     "output_type": "stream",
     "text": [
      "Step 15,700 (N samples: 2,009,600), Loss: 139.4958 (Recon: 132.5806, KL: 6.9152) Grad: 235.6856\n"
     ]
    },
    {
     "name": "stderr",
     "output_type": "stream",
     "text": [
      " 70%|██████▉   | 327/469 [00:11<00:05, 26.77it/s]"
     ]
    },
    {
     "name": "stdout",
     "output_type": "stream",
     "text": [
      "Step 15,800 (N samples: 2,022,400), Loss: 145.5570 (Recon: 138.9161, KL: 6.6408) Grad: 149.4548\n"
     ]
    },
    {
     "name": "stderr",
     "output_type": "stream",
     "text": [
      " 91%|█████████ | 427/469 [00:15<00:01, 26.74it/s]"
     ]
    },
    {
     "name": "stdout",
     "output_type": "stream",
     "text": [
      "Step 15,900 (N samples: 2,035,200), Loss: 144.4674 (Recon: 137.6515, KL: 6.8159) Grad: 269.6968\n"
     ]
    },
    {
     "name": "stderr",
     "output_type": "stream",
     "text": [
      "100%|██████████| 469/469 [00:17<00:00, 27.38it/s]\n",
      "Testing: 100%|██████████| 79/79 [00:02<00:00, 31.29it/s]\n"
     ]
    },
    {
     "name": "stdout",
     "output_type": "stream",
     "text": [
      "====> Test set loss: 142.0360 (BCE: 135.2384, KLD: 6.7976)\n",
      "Epoch 35/50\n"
     ]
    },
    {
     "name": "stderr",
     "output_type": "stream",
     "text": [
      " 13%|█▎        | 60/469 [00:02<00:14, 27.28it/s]"
     ]
    },
    {
     "name": "stdout",
     "output_type": "stream",
     "text": [
      "Step 16,000 (N samples: 2,048,000), Loss: 137.4620 (Recon: 130.6422, KL: 6.8198) Grad: 348.0459\n"
     ]
    },
    {
     "name": "stderr",
     "output_type": "stream",
     "text": [
      " 34%|███▎      | 158/469 [00:05<00:12, 25.67it/s]"
     ]
    },
    {
     "name": "stdout",
     "output_type": "stream",
     "text": [
      "Step 16,100 (N samples: 2,060,800), Loss: 132.8527 (Recon: 125.9544, KL: 6.8983) Grad: 112.6574\n"
     ]
    },
    {
     "name": "stderr",
     "output_type": "stream",
     "text": [
      " 55%|█████▌    | 260/469 [00:09<00:07, 27.75it/s]"
     ]
    },
    {
     "name": "stdout",
     "output_type": "stream",
     "text": [
      "Step 16,200 (N samples: 2,073,600), Loss: 143.9714 (Recon: 137.1938, KL: 6.7776) Grad: 450.4058\n"
     ]
    },
    {
     "name": "stderr",
     "output_type": "stream",
     "text": [
      " 77%|███████▋  | 359/469 [00:13<00:03, 28.34it/s]"
     ]
    },
    {
     "name": "stdout",
     "output_type": "stream",
     "text": [
      "Step 16,300 (N samples: 2,086,400), Loss: 144.9941 (Recon: 138.1826, KL: 6.8116) Grad: 398.6451\n"
     ]
    },
    {
     "name": "stderr",
     "output_type": "stream",
     "text": [
      " 98%|█████████▊| 459/469 [00:16<00:00, 28.23it/s]"
     ]
    },
    {
     "name": "stdout",
     "output_type": "stream",
     "text": [
      "Step 16,400 (N samples: 2,099,200), Loss: 135.6774 (Recon: 128.7743, KL: 6.9031) Grad: 130.2921\n"
     ]
    },
    {
     "name": "stderr",
     "output_type": "stream",
     "text": [
      "100%|██████████| 469/469 [00:16<00:00, 27.62it/s]\n",
      "Testing: 100%|██████████| 79/79 [00:02<00:00, 30.73it/s]\n"
     ]
    },
    {
     "name": "stdout",
     "output_type": "stream",
     "text": [
      "====> Test set loss: 141.8875 (BCE: 135.0963, KLD: 6.7911)\n",
      "Epoch 36/50\n"
     ]
    },
    {
     "name": "stderr",
     "output_type": "stream",
     "text": [
      " 19%|█▉        | 89/469 [00:03<00:13, 27.25it/s]"
     ]
    },
    {
     "name": "stdout",
     "output_type": "stream",
     "text": [
      "Step 16,500 (N samples: 2,112,000), Loss: 148.0629 (Recon: 141.1321, KL: 6.9308) Grad: 240.4884\n"
     ]
    },
    {
     "name": "stderr",
     "output_type": "stream",
     "text": [
      " 41%|████      | 190/469 [00:06<00:09, 28.13it/s]"
     ]
    },
    {
     "name": "stdout",
     "output_type": "stream",
     "text": [
      "Step 16,600 (N samples: 2,124,800), Loss: 138.4140 (Recon: 131.5540, KL: 6.8600) Grad: 286.1033\n"
     ]
    },
    {
     "name": "stderr",
     "output_type": "stream",
     "text": [
      " 62%|██████▏   | 291/469 [00:10<00:06, 27.08it/s]"
     ]
    },
    {
     "name": "stdout",
     "output_type": "stream",
     "text": [
      "Step 16,700 (N samples: 2,137,600), Loss: 138.7720 (Recon: 132.0444, KL: 6.7276) Grad: 296.9747\n"
     ]
    },
    {
     "name": "stderr",
     "output_type": "stream",
     "text": [
      " 83%|████████▎ | 389/469 [00:14<00:02, 28.29it/s]"
     ]
    },
    {
     "name": "stdout",
     "output_type": "stream",
     "text": [
      "Step 16,800 (N samples: 2,150,400), Loss: 133.8624 (Recon: 127.1000, KL: 6.7624) Grad: 206.7019\n"
     ]
    },
    {
     "name": "stderr",
     "output_type": "stream",
     "text": [
      "100%|██████████| 469/469 [00:17<00:00, 27.59it/s]\n",
      "Testing: 100%|██████████| 79/79 [00:02<00:00, 30.79it/s]\n"
     ]
    },
    {
     "name": "stdout",
     "output_type": "stream",
     "text": [
      "====> Test set loss: 142.5607 (BCE: 135.7561, KLD: 6.8046)\n",
      "Epoch 37/50\n"
     ]
    },
    {
     "name": "stderr",
     "output_type": "stream",
     "text": [
      "  5%|▍         | 22/469 [00:00<00:15, 28.05it/s]"
     ]
    },
    {
     "name": "stdout",
     "output_type": "stream",
     "text": [
      "Step 16,900 (N samples: 2,163,200), Loss: 140.3038 (Recon: 133.5461, KL: 6.7578) Grad: 259.6169\n"
     ]
    },
    {
     "name": "stderr",
     "output_type": "stream",
     "text": [
      " 25%|██▌       | 119/469 [00:04<00:12, 27.18it/s]"
     ]
    },
    {
     "name": "stdout",
     "output_type": "stream",
     "text": [
      "Step 17,000 (N samples: 2,176,000), Loss: 142.6056 (Recon: 135.6560, KL: 6.9497) Grad: 210.5599\n"
     ]
    },
    {
     "name": "stderr",
     "output_type": "stream",
     "text": [
      " 47%|████▋     | 221/469 [00:08<00:09, 26.22it/s]"
     ]
    },
    {
     "name": "stdout",
     "output_type": "stream",
     "text": [
      "Step 17,100 (N samples: 2,188,800), Loss: 133.2904 (Recon: 126.3560, KL: 6.9344) Grad: 278.3939\n"
     ]
    },
    {
     "name": "stderr",
     "output_type": "stream",
     "text": [
      " 68%|██████▊   | 320/469 [00:11<00:05, 27.36it/s]"
     ]
    },
    {
     "name": "stdout",
     "output_type": "stream",
     "text": [
      "Step 17,200 (N samples: 2,201,600), Loss: 140.2020 (Recon: 133.4207, KL: 6.7814) Grad: 203.0189\n"
     ]
    },
    {
     "name": "stderr",
     "output_type": "stream",
     "text": [
      " 90%|████████▉ | 422/469 [00:15<00:01, 26.84it/s]"
     ]
    },
    {
     "name": "stdout",
     "output_type": "stream",
     "text": [
      "Step 17,300 (N samples: 2,214,400), Loss: 133.6659 (Recon: 126.7422, KL: 6.9237) Grad: 189.9032\n"
     ]
    },
    {
     "name": "stderr",
     "output_type": "stream",
     "text": [
      "100%|██████████| 469/469 [00:17<00:00, 27.20it/s]\n",
      "Testing: 100%|██████████| 79/79 [00:02<00:00, 31.09it/s]\n"
     ]
    },
    {
     "name": "stdout",
     "output_type": "stream",
     "text": [
      "====> Test set loss: 148.8563 (BCE: 142.1938, KLD: 6.6626)\n",
      "Epoch 38/50\n"
     ]
    },
    {
     "name": "stderr",
     "output_type": "stream",
     "text": [
      " 11%|█         | 51/469 [00:01<00:15, 27.31it/s]"
     ]
    },
    {
     "name": "stdout",
     "output_type": "stream",
     "text": [
      "Step 17,400 (N samples: 2,227,200), Loss: 145.0560 (Recon: 138.2473, KL: 6.8087) Grad: 328.1395\n"
     ]
    },
    {
     "name": "stderr",
     "output_type": "stream",
     "text": [
      " 33%|███▎      | 153/469 [00:05<00:11, 26.84it/s]"
     ]
    },
    {
     "name": "stdout",
     "output_type": "stream",
     "text": [
      "Step 17,500 (N samples: 2,240,000), Loss: 144.9136 (Recon: 138.1139, KL: 6.7998) Grad: 158.2719\n"
     ]
    },
    {
     "name": "stderr",
     "output_type": "stream",
     "text": [
      " 54%|█████▎    | 252/469 [00:09<00:08, 26.99it/s]"
     ]
    },
    {
     "name": "stdout",
     "output_type": "stream",
     "text": [
      "Step 17,600 (N samples: 2,252,800), Loss: 143.9864 (Recon: 137.1323, KL: 6.8541) Grad: 98.4096\n"
     ]
    },
    {
     "name": "stderr",
     "output_type": "stream",
     "text": [
      " 75%|███████▍  | 351/469 [00:12<00:04, 27.42it/s]"
     ]
    },
    {
     "name": "stdout",
     "output_type": "stream",
     "text": [
      "Step 17,700 (N samples: 2,265,600), Loss: 133.6482 (Recon: 126.7603, KL: 6.8879) Grad: 213.5804\n"
     ]
    },
    {
     "name": "stderr",
     "output_type": "stream",
     "text": [
      " 96%|█████████▌| 451/469 [00:16<00:00, 27.10it/s]"
     ]
    },
    {
     "name": "stdout",
     "output_type": "stream",
     "text": [
      "Step 17,800 (N samples: 2,278,400), Loss: 144.8190 (Recon: 137.9427, KL: 6.8763) Grad: 226.2224\n"
     ]
    },
    {
     "name": "stderr",
     "output_type": "stream",
     "text": [
      "100%|██████████| 469/469 [00:17<00:00, 27.21it/s]\n",
      "Testing: 100%|██████████| 79/79 [00:02<00:00, 30.87it/s]\n"
     ]
    },
    {
     "name": "stdout",
     "output_type": "stream",
     "text": [
      "====> Test set loss: 144.4062 (BCE: 137.4750, KLD: 6.9312)\n",
      "Epoch 39/50\n"
     ]
    },
    {
     "name": "stderr",
     "output_type": "stream",
     "text": [
      " 17%|█▋        | 82/469 [00:03<00:14, 26.83it/s]"
     ]
    },
    {
     "name": "stdout",
     "output_type": "stream",
     "text": [
      "Step 17,900 (N samples: 2,291,200), Loss: 141.9904 (Recon: 135.2054, KL: 6.7850) Grad: 224.7873\n"
     ]
    },
    {
     "name": "stderr",
     "output_type": "stream",
     "text": [
      " 39%|███▉      | 183/469 [00:06<00:10, 26.63it/s]"
     ]
    },
    {
     "name": "stdout",
     "output_type": "stream",
     "text": [
      "Step 18,000 (N samples: 2,304,000), Loss: 140.6661 (Recon: 133.8855, KL: 6.7806) Grad: 203.1372\n"
     ]
    },
    {
     "name": "stderr",
     "output_type": "stream",
     "text": [
      " 60%|██████    | 282/469 [00:10<00:07, 26.60it/s]"
     ]
    },
    {
     "name": "stdout",
     "output_type": "stream",
     "text": [
      "Step 18,100 (N samples: 2,316,800), Loss: 146.8862 (Recon: 140.0128, KL: 6.8735) Grad: 162.6802\n"
     ]
    },
    {
     "name": "stderr",
     "output_type": "stream",
     "text": [
      " 82%|████████▏ | 383/469 [00:14<00:02, 28.87it/s]"
     ]
    },
    {
     "name": "stdout",
     "output_type": "stream",
     "text": [
      "Step 18,200 (N samples: 2,329,600), Loss: 140.5468 (Recon: 133.5668, KL: 6.9800) Grad: 126.0354\n"
     ]
    },
    {
     "name": "stderr",
     "output_type": "stream",
     "text": [
      "100%|██████████| 469/469 [00:17<00:00, 27.25it/s]\n",
      "Testing: 100%|██████████| 79/79 [00:02<00:00, 30.27it/s]\n"
     ]
    },
    {
     "name": "stdout",
     "output_type": "stream",
     "text": [
      "====> Test set loss: 141.5618 (BCE: 134.7239, KLD: 6.8379)\n",
      "Epoch 40/50\n"
     ]
    },
    {
     "name": "stderr",
     "output_type": "stream",
     "text": [
      "  3%|▎         | 15/469 [00:00<00:16, 27.00it/s]"
     ]
    },
    {
     "name": "stdout",
     "output_type": "stream",
     "text": [
      "Step 18,300 (N samples: 2,342,400), Loss: 139.0400 (Recon: 132.1625, KL: 6.8775) Grad: 197.7655\n"
     ]
    },
    {
     "name": "stderr",
     "output_type": "stream",
     "text": [
      " 24%|██▍       | 114/469 [00:04<00:13, 27.08it/s]"
     ]
    },
    {
     "name": "stdout",
     "output_type": "stream",
     "text": [
      "Step 18,400 (N samples: 2,355,200), Loss: 147.7118 (Recon: 140.8855, KL: 6.8263) Grad: 186.5237\n"
     ]
    },
    {
     "name": "stderr",
     "output_type": "stream",
     "text": [
      " 45%|████▌     | 213/469 [00:07<00:09, 26.87it/s]"
     ]
    },
    {
     "name": "stdout",
     "output_type": "stream",
     "text": [
      "Step 18,500 (N samples: 2,368,000), Loss: 132.4583 (Recon: 125.5262, KL: 6.9321) Grad: 135.3950\n"
     ]
    },
    {
     "name": "stderr",
     "output_type": "stream",
     "text": [
      " 67%|██████▋   | 313/469 [00:11<00:05, 26.91it/s]"
     ]
    },
    {
     "name": "stdout",
     "output_type": "stream",
     "text": [
      "Step 18,600 (N samples: 2,380,800), Loss: 141.3308 (Recon: 134.5392, KL: 6.7916) Grad: 201.9530\n"
     ]
    },
    {
     "name": "stderr",
     "output_type": "stream",
     "text": [
      " 88%|████████▊ | 413/469 [00:15<00:02, 26.74it/s]"
     ]
    },
    {
     "name": "stdout",
     "output_type": "stream",
     "text": [
      "Step 18,700 (N samples: 2,393,600), Loss: 152.1190 (Recon: 145.1945, KL: 6.9245) Grad: 263.6053\n"
     ]
    },
    {
     "name": "stderr",
     "output_type": "stream",
     "text": [
      "100%|██████████| 469/469 [00:17<00:00, 26.97it/s]\n",
      "Testing: 100%|██████████| 79/79 [00:02<00:00, 30.30it/s]\n"
     ]
    },
    {
     "name": "stdout",
     "output_type": "stream",
     "text": [
      "====> Test set loss: 140.4891 (BCE: 133.5614, KLD: 6.9277)\n",
      "Epoch 41/50\n"
     ]
    },
    {
     "name": "stderr",
     "output_type": "stream",
     "text": [
      "  9%|▉         | 43/469 [00:01<00:15, 27.08it/s]"
     ]
    },
    {
     "name": "stdout",
     "output_type": "stream",
     "text": [
      "Step 18,800 (N samples: 2,406,400), Loss: 136.7214 (Recon: 129.7874, KL: 6.9339) Grad: 138.3658\n"
     ]
    },
    {
     "name": "stderr",
     "output_type": "stream",
     "text": [
      " 31%|███       | 145/469 [00:05<00:12, 25.53it/s]"
     ]
    },
    {
     "name": "stdout",
     "output_type": "stream",
     "text": [
      "Step 18,900 (N samples: 2,419,200), Loss: 140.2717 (Recon: 133.4750, KL: 6.7967) Grad: 163.2436\n"
     ]
    },
    {
     "name": "stderr",
     "output_type": "stream",
     "text": [
      " 52%|█████▏    | 245/469 [00:09<00:08, 26.40it/s]"
     ]
    },
    {
     "name": "stdout",
     "output_type": "stream",
     "text": [
      "Step 19,000 (N samples: 2,432,000), Loss: 139.4449 (Recon: 132.5343, KL: 6.9106) Grad: 167.7846\n"
     ]
    },
    {
     "name": "stderr",
     "output_type": "stream",
     "text": [
      " 73%|███████▎  | 344/469 [00:12<00:04, 26.95it/s]"
     ]
    },
    {
     "name": "stdout",
     "output_type": "stream",
     "text": [
      "Step 19,100 (N samples: 2,444,800), Loss: 143.8311 (Recon: 136.8380, KL: 6.9931) Grad: 190.1270\n"
     ]
    },
    {
     "name": "stderr",
     "output_type": "stream",
     "text": [
      " 95%|█████████▍| 444/469 [00:16<00:01, 24.87it/s]"
     ]
    },
    {
     "name": "stdout",
     "output_type": "stream",
     "text": [
      "Step 19,200 (N samples: 2,457,600), Loss: 134.4686 (Recon: 127.4702, KL: 6.9984) Grad: 267.8959\n"
     ]
    },
    {
     "name": "stderr",
     "output_type": "stream",
     "text": [
      "100%|██████████| 469/469 [00:17<00:00, 26.80it/s]\n",
      "Testing: 100%|██████████| 79/79 [00:02<00:00, 30.99it/s]\n"
     ]
    },
    {
     "name": "stdout",
     "output_type": "stream",
     "text": [
      "====> Test set loss: 140.3807 (BCE: 133.5266, KLD: 6.8542)\n",
      "Epoch 42/50\n"
     ]
    },
    {
     "name": "stderr",
     "output_type": "stream",
     "text": [
      " 16%|█▌        | 75/469 [00:02<00:14, 26.97it/s]"
     ]
    },
    {
     "name": "stdout",
     "output_type": "stream",
     "text": [
      "Step 19,300 (N samples: 2,470,400), Loss: 138.1295 (Recon: 131.2798, KL: 6.8497) Grad: 271.7155\n"
     ]
    },
    {
     "name": "stderr",
     "output_type": "stream",
     "text": [
      " 38%|███▊      | 177/469 [00:06<00:10, 27.45it/s]"
     ]
    },
    {
     "name": "stdout",
     "output_type": "stream",
     "text": [
      "Step 19,400 (N samples: 2,483,200), Loss: 140.9906 (Recon: 134.2368, KL: 6.7539) Grad: 232.1144\n"
     ]
    },
    {
     "name": "stderr",
     "output_type": "stream",
     "text": [
      " 59%|█████▊    | 275/469 [00:10<00:07, 27.45it/s]"
     ]
    },
    {
     "name": "stdout",
     "output_type": "stream",
     "text": [
      "Step 19,500 (N samples: 2,496,000), Loss: 134.5810 (Recon: 127.7469, KL: 6.8341) Grad: 112.6876\n"
     ]
    },
    {
     "name": "stderr",
     "output_type": "stream",
     "text": [
      " 80%|███████▉  | 375/469 [00:13<00:03, 27.20it/s]"
     ]
    },
    {
     "name": "stdout",
     "output_type": "stream",
     "text": [
      "Step 19,600 (N samples: 2,508,800), Loss: 143.0684 (Recon: 136.1649, KL: 6.9035) Grad: 263.6797\n"
     ]
    },
    {
     "name": "stderr",
     "output_type": "stream",
     "text": [
      "100%|██████████| 469/469 [00:17<00:00, 26.96it/s]\n",
      "Testing: 100%|██████████| 79/79 [00:02<00:00, 29.93it/s]\n"
     ]
    },
    {
     "name": "stdout",
     "output_type": "stream",
     "text": [
      "====> Test set loss: 143.4380 (BCE: 136.6422, KLD: 6.7957)\n",
      "Epoch 43/50\n"
     ]
    },
    {
     "name": "stderr",
     "output_type": "stream",
     "text": [
      "  1%|          | 3/469 [00:00<00:22, 20.27it/s]"
     ]
    },
    {
     "name": "stdout",
     "output_type": "stream",
     "text": [
      "Step 19,700 (N samples: 2,521,600), Loss: 148.8562 (Recon: 142.2557, KL: 6.6004) Grad: 573.2518\n"
     ]
    },
    {
     "name": "stderr",
     "output_type": "stream",
     "text": [
      " 23%|██▎       | 106/469 [00:04<00:14, 25.83it/s]"
     ]
    },
    {
     "name": "stdout",
     "output_type": "stream",
     "text": [
      "Step 19,800 (N samples: 2,534,400), Loss: 138.4435 (Recon: 131.4324, KL: 7.0112) Grad: 487.8161\n"
     ]
    },
    {
     "name": "stderr",
     "output_type": "stream",
     "text": [
      " 44%|████▍     | 207/469 [00:07<00:09, 26.26it/s]"
     ]
    },
    {
     "name": "stdout",
     "output_type": "stream",
     "text": [
      "Step 19,900 (N samples: 2,547,200), Loss: 149.4949 (Recon: 142.6692, KL: 6.8258) Grad: 182.6565\n"
     ]
    },
    {
     "name": "stderr",
     "output_type": "stream",
     "text": [
      " 66%|██████▌   | 308/469 [00:11<00:05, 27.53it/s]"
     ]
    },
    {
     "name": "stdout",
     "output_type": "stream",
     "text": [
      "Step 20,000 (N samples: 2,560,000), Loss: 136.6467 (Recon: 129.6358, KL: 7.0109) Grad: 214.7143\n"
     ]
    },
    {
     "name": "stderr",
     "output_type": "stream",
     "text": [
      " 87%|████████▋ | 407/469 [00:15<00:02, 26.07it/s]"
     ]
    },
    {
     "name": "stdout",
     "output_type": "stream",
     "text": [
      "Step 20,100 (N samples: 2,572,800), Loss: 146.1723 (Recon: 139.2553, KL: 6.9170) Grad: 122.8516\n"
     ]
    },
    {
     "name": "stderr",
     "output_type": "stream",
     "text": [
      "100%|██████████| 469/469 [00:17<00:00, 26.71it/s]\n",
      "Testing: 100%|██████████| 79/79 [00:02<00:00, 32.49it/s]\n"
     ]
    },
    {
     "name": "stdout",
     "output_type": "stream",
     "text": [
      "====> Test set loss: 141.8869 (BCE: 135.0941, KLD: 6.7929)\n",
      "Epoch 44/50\n"
     ]
    },
    {
     "name": "stderr",
     "output_type": "stream",
     "text": [
      "  8%|▊         | 39/469 [00:01<00:16, 26.31it/s]"
     ]
    },
    {
     "name": "stdout",
     "output_type": "stream",
     "text": [
      "Step 20,200 (N samples: 2,585,600), Loss: 138.0439 (Recon: 131.1455, KL: 6.8984) Grad: 350.0275\n"
     ]
    },
    {
     "name": "stderr",
     "output_type": "stream",
     "text": [
      " 29%|██▉       | 138/469 [00:05<00:12, 26.88it/s]"
     ]
    },
    {
     "name": "stdout",
     "output_type": "stream",
     "text": [
      "Step 20,300 (N samples: 2,598,400), Loss: 130.1202 (Recon: 123.1025, KL: 7.0178) Grad: 280.8951\n"
     ]
    },
    {
     "name": "stderr",
     "output_type": "stream",
     "text": [
      " 51%|█████     | 238/469 [00:08<00:08, 25.95it/s]"
     ]
    },
    {
     "name": "stdout",
     "output_type": "stream",
     "text": [
      "Step 20,400 (N samples: 2,611,200), Loss: 135.6941 (Recon: 128.6712, KL: 7.0229) Grad: 248.9513\n"
     ]
    },
    {
     "name": "stderr",
     "output_type": "stream",
     "text": [
      " 72%|███████▏  | 338/469 [00:12<00:05, 25.19it/s]"
     ]
    },
    {
     "name": "stdout",
     "output_type": "stream",
     "text": [
      "Step 20,500 (N samples: 2,624,000), Loss: 142.4070 (Recon: 135.6436, KL: 6.7634) Grad: 185.9940\n"
     ]
    },
    {
     "name": "stderr",
     "output_type": "stream",
     "text": [
      " 93%|█████████▎| 438/469 [00:16<00:01, 26.49it/s]"
     ]
    },
    {
     "name": "stdout",
     "output_type": "stream",
     "text": [
      "Step 20,600 (N samples: 2,636,800), Loss: 145.5947 (Recon: 138.9198, KL: 6.6749) Grad: 201.4122\n"
     ]
    },
    {
     "name": "stderr",
     "output_type": "stream",
     "text": [
      "100%|██████████| 469/469 [00:17<00:00, 26.75it/s]\n",
      "Testing: 100%|██████████| 79/79 [00:02<00:00, 30.43it/s]\n"
     ]
    },
    {
     "name": "stdout",
     "output_type": "stream",
     "text": [
      "====> Test set loss: 142.2894 (BCE: 135.6058, KLD: 6.6836)\n",
      "Epoch 45/50\n"
     ]
    },
    {
     "name": "stderr",
     "output_type": "stream",
     "text": [
      " 14%|█▍        | 67/469 [00:02<00:15, 26.70it/s]"
     ]
    },
    {
     "name": "stdout",
     "output_type": "stream",
     "text": [
      "Step 20,700 (N samples: 2,649,600), Loss: 148.3204 (Recon: 141.4753, KL: 6.8452) Grad: 164.9325\n"
     ]
    },
    {
     "name": "stderr",
     "output_type": "stream",
     "text": [
      " 36%|███▌      | 169/469 [00:06<00:11, 26.78it/s]"
     ]
    },
    {
     "name": "stdout",
     "output_type": "stream",
     "text": [
      "Step 20,800 (N samples: 2,662,400), Loss: 135.2270 (Recon: 128.3876, KL: 6.8394) Grad: 214.8649\n"
     ]
    },
    {
     "name": "stderr",
     "output_type": "stream",
     "text": [
      " 58%|█████▊    | 271/469 [00:09<00:06, 28.48it/s]"
     ]
    },
    {
     "name": "stdout",
     "output_type": "stream",
     "text": [
      "Step 20,900 (N samples: 2,675,200), Loss: 142.7019 (Recon: 135.7402, KL: 6.9617) Grad: 165.3974\n"
     ]
    },
    {
     "name": "stderr",
     "output_type": "stream",
     "text": [
      " 78%|███████▊  | 368/469 [00:13<00:03, 26.69it/s]"
     ]
    },
    {
     "name": "stdout",
     "output_type": "stream",
     "text": [
      "Step 21,000 (N samples: 2,688,000), Loss: 139.6664 (Recon: 132.9236, KL: 6.7427) Grad: 213.5547\n"
     ]
    },
    {
     "name": "stderr",
     "output_type": "stream",
     "text": [
      "100%|██████████| 469/469 [00:17<00:00, 26.56it/s]\n"
     ]
    },
    {
     "name": "stdout",
     "output_type": "stream",
     "text": [
      "Step 21,100 (N samples: 2,700,800), Loss: 156.3849 (Recon: 149.3612, KL: 7.0237) Grad: 194.7067\n"
     ]
    },
    {
     "name": "stderr",
     "output_type": "stream",
     "text": [
      "Testing: 100%|██████████| 79/79 [00:02<00:00, 31.04it/s]\n"
     ]
    },
    {
     "name": "stdout",
     "output_type": "stream",
     "text": [
      "====> Test set loss: 142.5260 (BCE: 135.6124, KLD: 6.9136)\n",
      "Epoch 46/50\n"
     ]
    },
    {
     "name": "stderr",
     "output_type": "stream",
     "text": [
      " 21%|██▏       | 100/469 [00:03<00:13, 26.80it/s]"
     ]
    },
    {
     "name": "stdout",
     "output_type": "stream",
     "text": [
      "Step 21,200 (N samples: 2,713,600), Loss: 140.9332 (Recon: 134.3119, KL: 6.6213) Grad: 289.2923\n"
     ]
    },
    {
     "name": "stderr",
     "output_type": "stream",
     "text": [
      " 42%|████▏     | 198/469 [00:07<00:10, 26.84it/s]"
     ]
    },
    {
     "name": "stdout",
     "output_type": "stream",
     "text": [
      "Step 21,300 (N samples: 2,726,400), Loss: 140.7687 (Recon: 133.7619, KL: 7.0068) Grad: 183.3226\n"
     ]
    },
    {
     "name": "stderr",
     "output_type": "stream",
     "text": [
      " 64%|██████▍   | 299/469 [00:10<00:06, 27.17it/s]"
     ]
    },
    {
     "name": "stdout",
     "output_type": "stream",
     "text": [
      "Step 21,400 (N samples: 2,739,200), Loss: 146.2272 (Recon: 139.1943, KL: 7.0329) Grad: 224.9852\n"
     ]
    },
    {
     "name": "stderr",
     "output_type": "stream",
     "text": [
      " 85%|████████▌ | 400/469 [00:14<00:02, 27.45it/s]"
     ]
    },
    {
     "name": "stdout",
     "output_type": "stream",
     "text": [
      "Step 21,500 (N samples: 2,752,000), Loss: 137.0644 (Recon: 130.0570, KL: 7.0074) Grad: 147.2047\n"
     ]
    },
    {
     "name": "stderr",
     "output_type": "stream",
     "text": [
      "100%|██████████| 469/469 [00:17<00:00, 27.54it/s]\n",
      "Testing: 100%|██████████| 79/79 [00:02<00:00, 30.67it/s]\n"
     ]
    },
    {
     "name": "stdout",
     "output_type": "stream",
     "text": [
      "====> Test set loss: 140.7822 (BCE: 133.9379, KLD: 6.8443)\n",
      "Epoch 47/50\n"
     ]
    },
    {
     "name": "stderr",
     "output_type": "stream",
     "text": [
      "  6%|▋         | 30/469 [00:01<00:15, 27.56it/s]"
     ]
    },
    {
     "name": "stdout",
     "output_type": "stream",
     "text": [
      "Step 21,600 (N samples: 2,764,800), Loss: 141.9278 (Recon: 134.8726, KL: 7.0552) Grad: 398.8912\n"
     ]
    },
    {
     "name": "stderr",
     "output_type": "stream",
     "text": [
      " 28%|██▊       | 131/469 [00:04<00:12, 27.87it/s]"
     ]
    },
    {
     "name": "stdout",
     "output_type": "stream",
     "text": [
      "Step 21,700 (N samples: 2,777,600), Loss: 134.7122 (Recon: 127.6518, KL: 7.0604) Grad: 290.1787\n"
     ]
    },
    {
     "name": "stderr",
     "output_type": "stream",
     "text": [
      " 49%|████▉     | 230/469 [00:08<00:08, 28.12it/s]"
     ]
    },
    {
     "name": "stdout",
     "output_type": "stream",
     "text": [
      "Step 21,800 (N samples: 2,790,400), Loss: 140.6266 (Recon: 134.0466, KL: 6.5799) Grad: 163.4670\n"
     ]
    },
    {
     "name": "stderr",
     "output_type": "stream",
     "text": [
      " 71%|███████   | 333/469 [00:11<00:04, 29.15it/s]"
     ]
    },
    {
     "name": "stdout",
     "output_type": "stream",
     "text": [
      "Step 21,900 (N samples: 2,803,200), Loss: 136.9182 (Recon: 129.9585, KL: 6.9596) Grad: 169.8769\n"
     ]
    },
    {
     "name": "stderr",
     "output_type": "stream",
     "text": [
      " 92%|█████████▏| 432/469 [00:15<00:01, 27.43it/s]"
     ]
    },
    {
     "name": "stdout",
     "output_type": "stream",
     "text": [
      "Step 22,000 (N samples: 2,816,000), Loss: 140.4820 (Recon: 133.7053, KL: 6.7767) Grad: 283.8945\n"
     ]
    },
    {
     "name": "stderr",
     "output_type": "stream",
     "text": [
      "100%|██████████| 469/469 [00:16<00:00, 27.61it/s]\n",
      "Testing: 100%|██████████| 79/79 [00:02<00:00, 29.65it/s]\n"
     ]
    },
    {
     "name": "stdout",
     "output_type": "stream",
     "text": [
      "====> Test set loss: 139.8408 (BCE: 133.0720, KLD: 6.7688)\n",
      "Epoch 48/50\n"
     ]
    },
    {
     "name": "stderr",
     "output_type": "stream",
     "text": [
      " 13%|█▎        | 61/469 [00:02<00:14, 27.85it/s]"
     ]
    },
    {
     "name": "stdout",
     "output_type": "stream",
     "text": [
      "Step 22,100 (N samples: 2,828,800), Loss: 131.1188 (Recon: 124.2316, KL: 6.8872) Grad: 195.7525\n"
     ]
    },
    {
     "name": "stderr",
     "output_type": "stream",
     "text": [
      " 35%|███▍      | 162/469 [00:05<00:10, 27.92it/s]"
     ]
    },
    {
     "name": "stdout",
     "output_type": "stream",
     "text": [
      "Step 22,200 (N samples: 2,841,600), Loss: 145.6795 (Recon: 138.7930, KL: 6.8866) Grad: 245.9531\n"
     ]
    },
    {
     "name": "stderr",
     "output_type": "stream",
     "text": [
      " 56%|█████▌    | 262/469 [00:09<00:07, 27.52it/s]"
     ]
    },
    {
     "name": "stdout",
     "output_type": "stream",
     "text": [
      "Step 22,300 (N samples: 2,854,400), Loss: 139.8234 (Recon: 132.7289, KL: 7.0945) Grad: 206.7788\n"
     ]
    },
    {
     "name": "stderr",
     "output_type": "stream",
     "text": [
      " 77%|███████▋  | 362/469 [00:13<00:04, 26.71it/s]"
     ]
    },
    {
     "name": "stdout",
     "output_type": "stream",
     "text": [
      "Step 22,400 (N samples: 2,867,200), Loss: 133.9068 (Recon: 126.8891, KL: 7.0177) Grad: 187.7332\n"
     ]
    },
    {
     "name": "stderr",
     "output_type": "stream",
     "text": [
      " 98%|█████████▊| 461/469 [00:16<00:00, 27.53it/s]"
     ]
    },
    {
     "name": "stdout",
     "output_type": "stream",
     "text": [
      "Step 22,500 (N samples: 2,880,000), Loss: 145.8390 (Recon: 138.9104, KL: 6.9286) Grad: 377.5973\n"
     ]
    },
    {
     "name": "stderr",
     "output_type": "stream",
     "text": [
      "100%|██████████| 469/469 [00:17<00:00, 27.50it/s]\n",
      "Testing: 100%|██████████| 79/79 [00:02<00:00, 30.36it/s]\n"
     ]
    },
    {
     "name": "stdout",
     "output_type": "stream",
     "text": [
      "====> Test set loss: 143.2467 (BCE: 136.2927, KLD: 6.9540)\n",
      "Epoch 49/50\n"
     ]
    },
    {
     "name": "stderr",
     "output_type": "stream",
     "text": [
      " 20%|██        | 94/469 [00:03<00:13, 27.07it/s]"
     ]
    },
    {
     "name": "stdout",
     "output_type": "stream",
     "text": [
      "Step 22,600 (N samples: 2,892,800), Loss: 144.1511 (Recon: 137.2202, KL: 6.9309) Grad: 320.7890\n"
     ]
    },
    {
     "name": "stderr",
     "output_type": "stream",
     "text": [
      " 41%|████▏     | 194/469 [00:07<00:09, 27.90it/s]"
     ]
    },
    {
     "name": "stdout",
     "output_type": "stream",
     "text": [
      "Step 22,700 (N samples: 2,905,600), Loss: 139.5419 (Recon: 132.6797, KL: 6.8622) Grad: 192.3091\n"
     ]
    },
    {
     "name": "stderr",
     "output_type": "stream",
     "text": [
      " 62%|██████▏   | 292/469 [00:10<00:06, 26.80it/s]"
     ]
    },
    {
     "name": "stdout",
     "output_type": "stream",
     "text": [
      "Step 22,800 (N samples: 2,918,400), Loss: 137.9943 (Recon: 130.8314, KL: 7.1629) Grad: 231.6170\n"
     ]
    },
    {
     "name": "stderr",
     "output_type": "stream",
     "text": [
      " 84%|████████▍ | 393/469 [00:14<00:02, 26.54it/s]"
     ]
    },
    {
     "name": "stdout",
     "output_type": "stream",
     "text": [
      "Step 22,900 (N samples: 2,931,200), Loss: 134.8712 (Recon: 127.5517, KL: 7.3196) Grad: 263.6152\n"
     ]
    },
    {
     "name": "stderr",
     "output_type": "stream",
     "text": [
      "100%|██████████| 469/469 [00:17<00:00, 27.35it/s]\n",
      "Testing: 100%|██████████| 79/79 [00:02<00:00, 29.77it/s]\n"
     ]
    },
    {
     "name": "stdout",
     "output_type": "stream",
     "text": [
      "====> Test set loss: 139.7666 (BCE: 132.7536, KLD: 7.0130)\n",
      "Epoch 50/50\n"
     ]
    },
    {
     "name": "stderr",
     "output_type": "stream",
     "text": [
      "  5%|▌         | 24/469 [00:00<00:16, 27.57it/s]"
     ]
    },
    {
     "name": "stdout",
     "output_type": "stream",
     "text": [
      "Step 23,000 (N samples: 2,944,000), Loss: 143.3526 (Recon: 136.3938, KL: 6.9588) Grad: 258.5864\n"
     ]
    },
    {
     "name": "stderr",
     "output_type": "stream",
     "text": [
      " 26%|██▋       | 124/469 [00:04<00:12, 26.88it/s]"
     ]
    },
    {
     "name": "stdout",
     "output_type": "stream",
     "text": [
      "Step 23,100 (N samples: 2,956,800), Loss: 139.3857 (Recon: 132.4932, KL: 6.8925) Grad: 168.4327\n"
     ]
    },
    {
     "name": "stderr",
     "output_type": "stream",
     "text": [
      " 48%|████▊     | 225/469 [00:08<00:09, 26.90it/s]"
     ]
    },
    {
     "name": "stdout",
     "output_type": "stream",
     "text": [
      "Step 23,200 (N samples: 2,969,600), Loss: 146.1913 (Recon: 139.1103, KL: 7.0810) Grad: 268.5468\n"
     ]
    },
    {
     "name": "stderr",
     "output_type": "stream",
     "text": [
      " 69%|██████▉   | 324/469 [00:11<00:05, 26.89it/s]"
     ]
    },
    {
     "name": "stdout",
     "output_type": "stream",
     "text": [
      "Step 23,300 (N samples: 2,982,400), Loss: 139.9528 (Recon: 133.0538, KL: 6.8989) Grad: 363.3488\n"
     ]
    },
    {
     "name": "stderr",
     "output_type": "stream",
     "text": [
      " 90%|█████████ | 423/469 [00:15<00:01, 27.88it/s]"
     ]
    },
    {
     "name": "stdout",
     "output_type": "stream",
     "text": [
      "Step 23,400 (N samples: 2,995,200), Loss: 137.9998 (Recon: 131.2285, KL: 6.7713) Grad: 283.2635\n"
     ]
    },
    {
     "name": "stderr",
     "output_type": "stream",
     "text": [
      "100%|██████████| 469/469 [00:17<00:00, 27.56it/s]\n",
      "Testing: 100%|██████████| 79/79 [00:02<00:00, 31.31it/s]"
     ]
    },
    {
     "name": "stdout",
     "output_type": "stream",
     "text": [
      "====> Test set loss: 143.4851 (BCE: 136.6147, KLD: 6.8704)\n"
     ]
    },
    {
     "name": "stderr",
     "output_type": "stream",
     "text": [
      "\n"
     ]
    }
   ],
   "source": [
    "prev_updates = 0\n",
    "for epoch in range(num_epochs):\n",
    "    print(f\"Epoch {epoch+1}/{num_epochs}\")\n",
    "    prev_updates = train(model, train_loader, optimizer, prev_updates, writer=writer)\n",
    "    test(model,test_loader,prev_updates,writer=writer)"
   ]
  },
  {
   "cell_type": "code",
   "execution_count": 28,
   "metadata": {},
   "outputs": [
    {
     "name": "stderr",
     "output_type": "stream",
     "text": [
      "Encoding: 100%|██████████| 469/469 [00:06<00:00, 72.29it/s]\n"
     ]
    },
    {
     "data": {
      "text/plain": [
       "<matplotlib.colorbar.Colorbar at 0x2601d58dd00>"
      ]
     },
     "execution_count": 28,
     "metadata": {},
     "output_type": "execute_result"
    },
    {
     "data": {
      "image/png": "[encoded data removed]",
      "text/plain": [
       "<Figure size 1000x1000 with 2 Axes>"
      ]
     },
     "metadata": {},
     "output_type": "display_data"
    }
   ],
   "source": [
    "import matplotlib.pyplot as plt\n",
    "# encode and plot the z values for the train set \n",
    "model.eval()\n",
    "z_all = []\n",
    "y_all = []\n",
    "with torch.no_grad():\n",
    "    for data, target in tqdm(train_loader, desc='Encoding'):\n",
    "        data = data.to(device)\n",
    "        output = model(data, compute_loss=False)\n",
    "        z_all.append(output.z_sample.cpu().numpy())\n",
    "        y_all.append(target.numpy())\n",
    "\n",
    "import numpy as np\n",
    "z_all = np.concatenate(z_all, axis=0)\n",
    "y_all = np.concatenate(y_all, axis=0)\n",
    "plt.figure(figsize=(10, 10))\n",
    "plt.scatter(z_all[:, 0], z_all[:, 1], c=y_all, cmap='tab10')\n",
    "plt.colorbar()"
   ]
  },
  {
   "cell_type": "code",
   "execution_count": 29,
   "metadata": {},
   "outputs": [
    {
     "data": {
      "text/plain": [
       "<matplotlib.colorbar.Colorbar at 0x2601d747da0>"
      ]
     },
     "execution_count": 29,
     "metadata": {},
     "output_type": "execute_result"
    },
    {
     "data": {
      "image/png": "[encoded data removed]",
      "text/plain": [
       "<Figure size 1000x1000 with 2 Axes>"
      ]
     },
     "metadata": {},
     "output_type": "display_data"
    }
   ],
   "source": [
    "# plot as 2d histogram, log scale\n",
    "from matplotlib.colors import LogNorm\n",
    "plt.figure(figsize=(10, 10))\n",
    "plt.hist2d(z_all[:, 0], z_all[:, 1], bins=128, cmap='Blues', norm=LogNorm())\n",
    "plt.colorbar()"
   ]
  },
  {
   "cell_type": "code",
   "execution_count": 30,
   "metadata": {},
   "outputs": [
    {
     "data": {
      "image/png": "[encoded data removed]",
      "text/plain": [
       "<Figure size 1000x500 with 2 Axes>"
      ]
     },
     "metadata": {},
     "output_type": "display_data"
    }
   ],
   "source": [
    "# plot 1d histograms\n",
    "fig, ax = plt.subplots(1, 2, figsize=(10, 5))\n",
    "ax[0].hist(z_all[:, 0], bins=100, color='b', alpha=0.7)\n",
    "ax[0].set_title('z1')\n",
    "ax[1].hist(z_all[:, 1], bins=100, color='b', alpha=0.7)\n",
    "ax[1].set_title('z2')\n",
    "plt.show()"
   ]
  },
  {
   "cell_type": "code",
   "execution_count": 31,
   "metadata": {},
   "outputs": [
    {
     "data": {
      "image/png": "[encoded data removed]",
      "text/plain": [
       "<Figure size 1500x100 with 15 Axes>"
      ]
     },
     "metadata": {},
     "output_type": "display_data"
    }
   ],
   "source": [
    "n = 15\n",
    "z1 = torch.linspace(-0, 1, n)\n",
    "z2 = torch.zeros_like(z1) + 2\n",
    "z = torch.stack([z1, z2], dim=-1).to(device)\n",
    "samples = model.decode(z)\n",
    "samples = torch.sigmoid(samples)\n",
    "\n",
    "# Plot the generated images\n",
    "fig, ax = plt.subplots(1, n, figsize=(n, 1))\n",
    "for i in range(n):\n",
    "    ax[i].imshow(samples[i].view(28, 28).cpu().detach().numpy(), cmap='gray')\n",
    "    ax[i].axis('off')"
   ]
  },
  {
   "cell_type": "code",
   "execution_count": 35,
   "metadata": {},
   "outputs": [
    {
     "data": {
      "text/plain": [
       "tensor([[0.0000, 2.0000],\n",
       "        [0.0714, 2.0000],\n",
       "        [0.1429, 2.0000],\n",
       "        [0.2143, 2.0000],\n",
       "        [0.2857, 2.0000],\n",
       "        [0.3571, 2.0000],\n",
       "        [0.4286, 2.0000],\n",
       "        [0.5000, 2.0000],\n",
       "        [0.5714, 2.0000],\n",
       "        [0.6429, 2.0000],\n",
       "        [0.7143, 2.0000],\n",
       "        [0.7857, 2.0000],\n",
       "        [0.8571, 2.0000],\n",
       "        [0.9286, 2.0000],\n",
       "        [1.0000, 2.0000]], device='cuda:0')"
      ]
     },
     "execution_count": 35,
     "metadata": {},
     "output_type": "execute_result"
    }
   ],
   "source": [
    "z"
   ]
  },
  {
   "cell_type": "code",
   "execution_count": null,
   "metadata": {},
   "outputs": [],
   "source": [
    "18600818222\n",
    "18210334309"
   ]
  }
 ],
 "metadata": {
  "kernelspec": {
   "display_name": "Python 3",
   "language": "python",
   "name": "python3"
  },
  "language_info": {
   "codemirror_mode": {
    "name": "ipython",
    "version": 3
   },
   "file_extension": ".py",
   "mimetype": "text/x-python",
   "name": "python",
   "nbconvert_exporter": "python",
   "pygments_lexer": "ipython3",
   "version": "3.12.3"
  }
 },
 "nbformat": 4,
 "nbformat_minor": 2
}
